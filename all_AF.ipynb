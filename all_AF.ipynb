{
 "cells": [
  {
   "cell_type": "code",
   "execution_count": 1,
   "metadata": {
    "executionInfo": {
     "elapsed": 480,
     "status": "ok",
     "timestamp": 1624165288757,
     "user": {
      "displayName": "vrushank pambhar",
      "photoUrl": "https://lh3.googleusercontent.com/a-/AOh14Ghe41TAQCpGJKNYvyA0q036zdLW42OlzRME1ahQHw=s64",
      "userId": "03806319178712934532"
     },
     "user_tz": -330
    },
    "id": "Qsxs-UXxxXEe"
   },
   "outputs": [],
   "source": [
    "\n",
    "import pandas as pd\n",
    "import numpy as np\n",
    "import matplotlib.pyplot as plt\n"
   ]
  },
  {
   "cell_type": "code",
   "execution_count": 2,
   "metadata": {
    "executionInfo": {
     "elapsed": 1729,
     "status": "ok",
     "timestamp": 1624165295249,
     "user": {
      "displayName": "vrushank pambhar",
      "photoUrl": "https://lh3.googleusercontent.com/a-/AOh14Ghe41TAQCpGJKNYvyA0q036zdLW42OlzRME1ahQHw=s64",
      "userId": "03806319178712934532"
     },
     "user_tz": -330
    },
    "id": "jfX7axxnyn8J"
   },
   "outputs": [],
   "source": [
    "ds=pd.read_csv('BankNote_Authentication.csv')"
   ]
  },
  {
   "cell_type": "code",
   "execution_count": 3,
   "metadata": {
    "colab": {
     "base_uri": "https://localhost:8080/",
     "height": 204
    },
    "executionInfo": {
     "elapsed": 519,
     "status": "ok",
     "timestamp": 1624165298549,
     "user": {
      "displayName": "vrushank pambhar",
      "photoUrl": "https://lh3.googleusercontent.com/a-/AOh14Ghe41TAQCpGJKNYvyA0q036zdLW42OlzRME1ahQHw=s64",
      "userId": "03806319178712934532"
     },
     "user_tz": -330
    },
    "id": "2engeWbMy8IV",
    "outputId": "fdd017f8-a968-4b3e-f328-a903bf683943"
   },
   "outputs": [
    {
     "data": {
      "text/html": [
       "<div>\n",
       "<style scoped>\n",
       "    .dataframe tbody tr th:only-of-type {\n",
       "        vertical-align: middle;\n",
       "    }\n",
       "\n",
       "    .dataframe tbody tr th {\n",
       "        vertical-align: top;\n",
       "    }\n",
       "\n",
       "    .dataframe thead th {\n",
       "        text-align: right;\n",
       "    }\n",
       "</style>\n",
       "<table border=\"1\" class=\"dataframe\">\n",
       "  <thead>\n",
       "    <tr style=\"text-align: right;\">\n",
       "      <th></th>\n",
       "      <th>variance</th>\n",
       "      <th>skewness</th>\n",
       "      <th>curtosis</th>\n",
       "      <th>entropy</th>\n",
       "      <th>class</th>\n",
       "    </tr>\n",
       "  </thead>\n",
       "  <tbody>\n",
       "    <tr>\n",
       "      <th>0</th>\n",
       "      <td>3.62160</td>\n",
       "      <td>8.6661</td>\n",
       "      <td>-2.8073</td>\n",
       "      <td>-0.44699</td>\n",
       "      <td>0</td>\n",
       "    </tr>\n",
       "    <tr>\n",
       "      <th>1</th>\n",
       "      <td>4.54590</td>\n",
       "      <td>8.1674</td>\n",
       "      <td>-2.4586</td>\n",
       "      <td>-1.46210</td>\n",
       "      <td>0</td>\n",
       "    </tr>\n",
       "    <tr>\n",
       "      <th>2</th>\n",
       "      <td>3.86600</td>\n",
       "      <td>-2.6383</td>\n",
       "      <td>1.9242</td>\n",
       "      <td>0.10645</td>\n",
       "      <td>0</td>\n",
       "    </tr>\n",
       "    <tr>\n",
       "      <th>3</th>\n",
       "      <td>3.45660</td>\n",
       "      <td>9.5228</td>\n",
       "      <td>-4.0112</td>\n",
       "      <td>-3.59440</td>\n",
       "      <td>0</td>\n",
       "    </tr>\n",
       "    <tr>\n",
       "      <th>4</th>\n",
       "      <td>0.32924</td>\n",
       "      <td>-4.4552</td>\n",
       "      <td>4.5718</td>\n",
       "      <td>-0.98880</td>\n",
       "      <td>0</td>\n",
       "    </tr>\n",
       "  </tbody>\n",
       "</table>\n",
       "</div>"
      ],
      "text/plain": [
       "   variance  skewness  curtosis  entropy  class\n",
       "0   3.62160    8.6661   -2.8073 -0.44699      0\n",
       "1   4.54590    8.1674   -2.4586 -1.46210      0\n",
       "2   3.86600   -2.6383    1.9242  0.10645      0\n",
       "3   3.45660    9.5228   -4.0112 -3.59440      0\n",
       "4   0.32924   -4.4552    4.5718 -0.98880      0"
      ]
     },
     "execution_count": 3,
     "metadata": {
      "tags": []
     },
     "output_type": "execute_result"
    }
   ],
   "source": [
    "ds.head()"
   ]
  },
  {
   "cell_type": "markdown",
   "metadata": {
    "id": "EIjf0HMnJNSt"
   },
   "source": [
    "### class is our output or target variable and\n",
    "\n",
    "### all the others are our input variables"
   ]
  },
  {
   "cell_type": "code",
   "execution_count": 4,
   "metadata": {
    "executionInfo": {
     "elapsed": 10,
     "status": "ok",
     "timestamp": 1624165301336,
     "user": {
      "displayName": "vrushank pambhar",
      "photoUrl": "https://lh3.googleusercontent.com/a-/AOh14Ghe41TAQCpGJKNYvyA0q036zdLW42OlzRME1ahQHw=s64",
      "userId": "03806319178712934532"
     },
     "user_tz": -330
    },
    "id": "sFVQ-pBny_rS"
   },
   "outputs": [],
   "source": [
    "x=ds.drop(['class'],axis=1)\n",
    "y=ds[['class']]"
   ]
  },
  {
   "cell_type": "code",
   "execution_count": 5,
   "metadata": {
    "colab": {
     "base_uri": "https://localhost:8080/",
     "height": 204
    },
    "executionInfo": {
     "elapsed": 515,
     "status": "ok",
     "timestamp": 1624165306658,
     "user": {
      "displayName": "vrushank pambhar",
      "photoUrl": "https://lh3.googleusercontent.com/a-/AOh14Ghe41TAQCpGJKNYvyA0q036zdLW42OlzRME1ahQHw=s64",
      "userId": "03806319178712934532"
     },
     "user_tz": -330
    },
    "id": "m4hWUfj3z6VE",
    "outputId": "67a81574-236f-4104-94b1-cea004fd267b"
   },
   "outputs": [
    {
     "data": {
      "text/html": [
       "<div>\n",
       "<style scoped>\n",
       "    .dataframe tbody tr th:only-of-type {\n",
       "        vertical-align: middle;\n",
       "    }\n",
       "\n",
       "    .dataframe tbody tr th {\n",
       "        vertical-align: top;\n",
       "    }\n",
       "\n",
       "    .dataframe thead th {\n",
       "        text-align: right;\n",
       "    }\n",
       "</style>\n",
       "<table border=\"1\" class=\"dataframe\">\n",
       "  <thead>\n",
       "    <tr style=\"text-align: right;\">\n",
       "      <th></th>\n",
       "      <th>variance</th>\n",
       "      <th>skewness</th>\n",
       "      <th>curtosis</th>\n",
       "      <th>entropy</th>\n",
       "    </tr>\n",
       "  </thead>\n",
       "  <tbody>\n",
       "    <tr>\n",
       "      <th>0</th>\n",
       "      <td>3.62160</td>\n",
       "      <td>8.6661</td>\n",
       "      <td>-2.8073</td>\n",
       "      <td>-0.44699</td>\n",
       "    </tr>\n",
       "    <tr>\n",
       "      <th>1</th>\n",
       "      <td>4.54590</td>\n",
       "      <td>8.1674</td>\n",
       "      <td>-2.4586</td>\n",
       "      <td>-1.46210</td>\n",
       "    </tr>\n",
       "    <tr>\n",
       "      <th>2</th>\n",
       "      <td>3.86600</td>\n",
       "      <td>-2.6383</td>\n",
       "      <td>1.9242</td>\n",
       "      <td>0.10645</td>\n",
       "    </tr>\n",
       "    <tr>\n",
       "      <th>3</th>\n",
       "      <td>3.45660</td>\n",
       "      <td>9.5228</td>\n",
       "      <td>-4.0112</td>\n",
       "      <td>-3.59440</td>\n",
       "    </tr>\n",
       "    <tr>\n",
       "      <th>4</th>\n",
       "      <td>0.32924</td>\n",
       "      <td>-4.4552</td>\n",
       "      <td>4.5718</td>\n",
       "      <td>-0.98880</td>\n",
       "    </tr>\n",
       "  </tbody>\n",
       "</table>\n",
       "</div>"
      ],
      "text/plain": [
       "   variance  skewness  curtosis  entropy\n",
       "0   3.62160    8.6661   -2.8073 -0.44699\n",
       "1   4.54590    8.1674   -2.4586 -1.46210\n",
       "2   3.86600   -2.6383    1.9242  0.10645\n",
       "3   3.45660    9.5228   -4.0112 -3.59440\n",
       "4   0.32924   -4.4552    4.5718 -0.98880"
      ]
     },
     "execution_count": 5,
     "metadata": {
      "tags": []
     },
     "output_type": "execute_result"
    }
   ],
   "source": [
    "x.head()"
   ]
  },
  {
   "cell_type": "code",
   "execution_count": 6,
   "metadata": {
    "colab": {
     "base_uri": "https://localhost:8080/",
     "height": 204
    },
    "executionInfo": {
     "elapsed": 762,
     "status": "ok",
     "timestamp": 1624165310949,
     "user": {
      "displayName": "vrushank pambhar",
      "photoUrl": "https://lh3.googleusercontent.com/a-/AOh14Ghe41TAQCpGJKNYvyA0q036zdLW42OlzRME1ahQHw=s64",
      "userId": "03806319178712934532"
     },
     "user_tz": -330
    },
    "id": "Zyi3yvc00Ei3",
    "outputId": "0453e1ec-1bf3-48ed-be79-414cc88f3da2"
   },
   "outputs": [
    {
     "data": {
      "text/html": [
       "<div>\n",
       "<style scoped>\n",
       "    .dataframe tbody tr th:only-of-type {\n",
       "        vertical-align: middle;\n",
       "    }\n",
       "\n",
       "    .dataframe tbody tr th {\n",
       "        vertical-align: top;\n",
       "    }\n",
       "\n",
       "    .dataframe thead th {\n",
       "        text-align: right;\n",
       "    }\n",
       "</style>\n",
       "<table border=\"1\" class=\"dataframe\">\n",
       "  <thead>\n",
       "    <tr style=\"text-align: right;\">\n",
       "      <th></th>\n",
       "      <th>class</th>\n",
       "    </tr>\n",
       "  </thead>\n",
       "  <tbody>\n",
       "    <tr>\n",
       "      <th>0</th>\n",
       "      <td>0</td>\n",
       "    </tr>\n",
       "    <tr>\n",
       "      <th>1</th>\n",
       "      <td>0</td>\n",
       "    </tr>\n",
       "    <tr>\n",
       "      <th>2</th>\n",
       "      <td>0</td>\n",
       "    </tr>\n",
       "    <tr>\n",
       "      <th>3</th>\n",
       "      <td>0</td>\n",
       "    </tr>\n",
       "    <tr>\n",
       "      <th>4</th>\n",
       "      <td>0</td>\n",
       "    </tr>\n",
       "  </tbody>\n",
       "</table>\n",
       "</div>"
      ],
      "text/plain": [
       "   class\n",
       "0      0\n",
       "1      0\n",
       "2      0\n",
       "3      0\n",
       "4      0"
      ]
     },
     "execution_count": 6,
     "metadata": {
      "tags": []
     },
     "output_type": "execute_result"
    }
   ],
   "source": [
    "y.head()"
   ]
  },
  {
   "cell_type": "code",
   "execution_count": 7,
   "metadata": {
    "executionInfo": {
     "elapsed": 1205,
     "status": "ok",
     "timestamp": 1624165316812,
     "user": {
      "displayName": "vrushank pambhar",
      "photoUrl": "https://lh3.googleusercontent.com/a-/AOh14Ghe41TAQCpGJKNYvyA0q036zdLW42OlzRME1ahQHw=s64",
      "userId": "03806319178712934532"
     },
     "user_tz": -330
    },
    "id": "vT21mJfA0NDQ"
   },
   "outputs": [],
   "source": [
    "from sklearn.model_selection import train_test_split"
   ]
  },
  {
   "cell_type": "code",
   "execution_count": 8,
   "metadata": {
    "executionInfo": {
     "elapsed": 485,
     "status": "ok",
     "timestamp": 1624165320511,
     "user": {
      "displayName": "vrushank pambhar",
      "photoUrl": "https://lh3.googleusercontent.com/a-/AOh14Ghe41TAQCpGJKNYvyA0q036zdLW42OlzRME1ahQHw=s64",
      "userId": "03806319178712934532"
     },
     "user_tz": -330
    },
    "id": "eiatqsTA0SyZ"
   },
   "outputs": [],
   "source": [
    "x_train,x_test,y_train,y_test=train_test_split(x,y,train_size=0.2,random_state=0)"
   ]
  },
  {
   "cell_type": "markdown",
   "metadata": {
    "id": "TeFhARFLJzmF"
   },
   "source": [
    "#### spliting the data into train and test \n",
    "\n",
    "#### and for spliting it is 80-20 ratio \n",
    "\n",
    "#### so 80% is training data and 20% is test data\n",
    "\n",
    "#### also used random_state=0 for suffling the data before spliting"
   ]
  },
  {
   "cell_type": "code",
   "execution_count": 9,
   "metadata": {
    "colab": {
     "base_uri": "https://localhost:8080/",
     "height": 204
    },
    "executionInfo": {
     "elapsed": 537,
     "status": "ok",
     "timestamp": 1624165323528,
     "user": {
      "displayName": "vrushank pambhar",
      "photoUrl": "https://lh3.googleusercontent.com/a-/AOh14Ghe41TAQCpGJKNYvyA0q036zdLW42OlzRME1ahQHw=s64",
      "userId": "03806319178712934532"
     },
     "user_tz": -330
    },
    "id": "OWrpcYUJ1eB1",
    "outputId": "6740e541-e9a9-4449-af13-c5c5e9f75784"
   },
   "outputs": [
    {
     "data": {
      "text/html": [
       "<div>\n",
       "<style scoped>\n",
       "    .dataframe tbody tr th:only-of-type {\n",
       "        vertical-align: middle;\n",
       "    }\n",
       "\n",
       "    .dataframe tbody tr th {\n",
       "        vertical-align: top;\n",
       "    }\n",
       "\n",
       "    .dataframe thead th {\n",
       "        text-align: right;\n",
       "    }\n",
       "</style>\n",
       "<table border=\"1\" class=\"dataframe\">\n",
       "  <thead>\n",
       "    <tr style=\"text-align: right;\">\n",
       "      <th></th>\n",
       "      <th>variance</th>\n",
       "      <th>skewness</th>\n",
       "      <th>curtosis</th>\n",
       "      <th>entropy</th>\n",
       "    </tr>\n",
       "  </thead>\n",
       "  <tbody>\n",
       "    <tr>\n",
       "      <th>859</th>\n",
       "      <td>-5.8730</td>\n",
       "      <td>9.1752</td>\n",
       "      <td>-0.27448</td>\n",
       "      <td>-6.04220</td>\n",
       "    </tr>\n",
       "    <tr>\n",
       "      <th>952</th>\n",
       "      <td>-1.2846</td>\n",
       "      <td>3.2715</td>\n",
       "      <td>-1.76710</td>\n",
       "      <td>-3.26080</td>\n",
       "    </tr>\n",
       "    <tr>\n",
       "      <th>1144</th>\n",
       "      <td>-1.3995</td>\n",
       "      <td>-1.9162</td>\n",
       "      <td>2.51540</td>\n",
       "      <td>0.59912</td>\n",
       "    </tr>\n",
       "    <tr>\n",
       "      <th>628</th>\n",
       "      <td>3.5251</td>\n",
       "      <td>0.7201</td>\n",
       "      <td>1.69280</td>\n",
       "      <td>0.64438</td>\n",
       "    </tr>\n",
       "    <tr>\n",
       "      <th>606</th>\n",
       "      <td>-1.4275</td>\n",
       "      <td>11.8797</td>\n",
       "      <td>0.41613</td>\n",
       "      <td>-6.99780</td>\n",
       "    </tr>\n",
       "  </tbody>\n",
       "</table>\n",
       "</div>"
      ],
      "text/plain": [
       "      variance  skewness  curtosis  entropy\n",
       "859    -5.8730    9.1752  -0.27448 -6.04220\n",
       "952    -1.2846    3.2715  -1.76710 -3.26080\n",
       "1144   -1.3995   -1.9162   2.51540  0.59912\n",
       "628     3.5251    0.7201   1.69280  0.64438\n",
       "606    -1.4275   11.8797   0.41613 -6.99780"
      ]
     },
     "execution_count": 9,
     "metadata": {
      "tags": []
     },
     "output_type": "execute_result"
    }
   ],
   "source": [
    "x_train.head()"
   ]
  },
  {
   "cell_type": "code",
   "execution_count": 10,
   "metadata": {
    "executionInfo": {
     "elapsed": 1712,
     "status": "ok",
     "timestamp": 1624165328795,
     "user": {
      "displayName": "vrushank pambhar",
      "photoUrl": "https://lh3.googleusercontent.com/a-/AOh14Ghe41TAQCpGJKNYvyA0q036zdLW42OlzRME1ahQHw=s64",
      "userId": "03806319178712934532"
     },
     "user_tz": -330
    },
    "id": "fc8j7kCx1kNG"
   },
   "outputs": [],
   "source": [
    "import keras\n",
    "from keras.models import Sequential\n",
    "from keras.layers import Dense,Input"
   ]
  },
  {
   "cell_type": "markdown",
   "metadata": {
    "id": "NnhPd-0zKoUE"
   },
   "source": [
    "### here we are bulding a ANN model with help of keras\n",
    "\n",
    "### and here we used sigmoid AF function "
   ]
  },
  {
   "cell_type": "code",
   "execution_count": 11,
   "metadata": {
    "executionInfo": {
     "elapsed": 5613,
     "status": "ok",
     "timestamp": 1624165340480,
     "user": {
      "displayName": "vrushank pambhar",
      "photoUrl": "https://lh3.googleusercontent.com/a-/AOh14Ghe41TAQCpGJKNYvyA0q036zdLW42OlzRME1ahQHw=s64",
      "userId": "03806319178712934532"
     },
     "user_tz": -330
    },
    "id": "YHsJ8U2VAypE"
   },
   "outputs": [],
   "source": [
    "classifier=Sequential()\n",
    "classifier.add(Dense(units=6,kernel_initializer='he_uniform',activation='sigmoid',input_dim=4))\n",
    "classifier.add(Dense(units=1,kernel_initializer='he_uniform',activation='sigmoid'))\n",
    "classifier.compile(optimizer='adam',loss='binary_crossentropy',metrics=['accuracy'])\n"
   ]
  },
  {
   "cell_type": "code",
   "execution_count": 12,
   "metadata": {
    "colab": {
     "base_uri": "https://localhost:8080/"
    },
    "executionInfo": {
     "elapsed": 470,
     "status": "ok",
     "timestamp": 1624165344013,
     "user": {
      "displayName": "vrushank pambhar",
      "photoUrl": "https://lh3.googleusercontent.com/a-/AOh14Ghe41TAQCpGJKNYvyA0q036zdLW42OlzRME1ahQHw=s64",
      "userId": "03806319178712934532"
     },
     "user_tz": -330
    },
    "id": "vUt1DfnG_Zv4",
    "outputId": "d98e1caa-546f-404f-c3c8-bf11d814e25b"
   },
   "outputs": [
    {
     "name": "stdout",
     "output_type": "stream",
     "text": [
      "Model: \"sequential\"\n",
      "_________________________________________________________________\n",
      "Layer (type)                 Output Shape              Param #   \n",
      "=================================================================\n",
      "dense (Dense)                (None, 6)                 30        \n",
      "_________________________________________________________________\n",
      "dense_1 (Dense)              (None, 1)                 7         \n",
      "=================================================================\n",
      "Total params: 37\n",
      "Trainable params: 37\n",
      "Non-trainable params: 0\n",
      "_________________________________________________________________\n"
     ]
    }
   ],
   "source": [
    "classifier.summary()"
   ]
  },
  {
   "cell_type": "code",
   "execution_count": 13,
   "metadata": {
    "colab": {
     "base_uri": "https://localhost:8080/"
    },
    "executionInfo": {
     "elapsed": 31613,
     "status": "ok",
     "timestamp": 1624165387359,
     "user": {
      "displayName": "vrushank pambhar",
      "photoUrl": "https://lh3.googleusercontent.com/a-/AOh14Ghe41TAQCpGJKNYvyA0q036zdLW42OlzRME1ahQHw=s64",
      "userId": "03806319178712934532"
     },
     "user_tz": -330
    },
    "id": "SGWQc7-9Cg-u",
    "outputId": "a9974292-8018-4f99-a2e1-a792e95086cc"
   },
   "outputs": [
    {
     "name": "stdout",
     "output_type": "stream",
     "text": [
      "Epoch 1/50\n",
      "14/14 [==============================] - 13s 41ms/step - loss: 0.6474 - accuracy: 0.5770 - val_loss: 0.6038 - val_accuracy: 0.6220\n",
      "Epoch 2/50\n",
      "14/14 [==============================] - 0s 14ms/step - loss: 0.6409 - accuracy: 0.5605 - val_loss: 0.5926 - val_accuracy: 0.6284\n",
      "Epoch 3/50\n",
      "14/14 [==============================] - 0s 9ms/step - loss: 0.6353 - accuracy: 0.5350 - val_loss: 0.5816 - val_accuracy: 0.6330\n",
      "Epoch 4/50\n",
      "14/14 [==============================] - 0s 10ms/step - loss: 0.6321 - accuracy: 0.5291 - val_loss: 0.5716 - val_accuracy: 0.6594\n",
      "Epoch 5/50\n",
      "14/14 [==============================] - 0s 14ms/step - loss: 0.5909 - accuracy: 0.6420 - val_loss: 0.5622 - val_accuracy: 0.7004\n",
      "Epoch 6/50\n",
      "14/14 [==============================] - 0s 9ms/step - loss: 0.5943 - accuracy: 0.6406 - val_loss: 0.5532 - val_accuracy: 0.7277\n",
      "Epoch 7/50\n",
      "14/14 [==============================] - 0s 9ms/step - loss: 0.5669 - accuracy: 0.7144 - val_loss: 0.5446 - val_accuracy: 0.7550\n",
      "Epoch 8/50\n",
      "14/14 [==============================] - 0s 8ms/step - loss: 0.5943 - accuracy: 0.6743 - val_loss: 0.5367 - val_accuracy: 0.7723\n",
      "Epoch 9/50\n",
      "14/14 [==============================] - 0s 8ms/step - loss: 0.5533 - accuracy: 0.7440 - val_loss: 0.5289 - val_accuracy: 0.7887\n",
      "Epoch 10/50\n",
      "14/14 [==============================] - 0s 9ms/step - loss: 0.5660 - accuracy: 0.7107 - val_loss: 0.5218 - val_accuracy: 0.7960\n",
      "Epoch 11/50\n",
      "14/14 [==============================] - 0s 14ms/step - loss: 0.5452 - accuracy: 0.7244 - val_loss: 0.5149 - val_accuracy: 0.8087\n",
      "Epoch 12/50\n",
      "14/14 [==============================] - 0s 8ms/step - loss: 0.5457 - accuracy: 0.7607 - val_loss: 0.5084 - val_accuracy: 0.8188\n",
      "Epoch 13/50\n",
      "14/14 [==============================] - 0s 9ms/step - loss: 0.5370 - accuracy: 0.7821 - val_loss: 0.5020 - val_accuracy: 0.8279\n",
      "Epoch 14/50\n",
      "14/14 [==============================] - 0s 14ms/step - loss: 0.4973 - accuracy: 0.8164 - val_loss: 0.4955 - val_accuracy: 0.8342\n",
      "Epoch 15/50\n",
      "14/14 [==============================] - 0s 9ms/step - loss: 0.5210 - accuracy: 0.7945 - val_loss: 0.4895 - val_accuracy: 0.8406\n",
      "Epoch 16/50\n",
      "14/14 [==============================] - 0s 8ms/step - loss: 0.5133 - accuracy: 0.7803 - val_loss: 0.4834 - val_accuracy: 0.8479\n",
      "Epoch 17/50\n",
      "14/14 [==============================] - 0s 14ms/step - loss: 0.5193 - accuracy: 0.7625 - val_loss: 0.4775 - val_accuracy: 0.8561\n",
      "Epoch 18/50\n",
      "14/14 [==============================] - 0s 8ms/step - loss: 0.4984 - accuracy: 0.8183 - val_loss: 0.4717 - val_accuracy: 0.8625\n",
      "Epoch 19/50\n",
      "14/14 [==============================] - 0s 14ms/step - loss: 0.5207 - accuracy: 0.7466 - val_loss: 0.4659 - val_accuracy: 0.8716\n",
      "Epoch 20/50\n",
      "14/14 [==============================] - 0s 14ms/step - loss: 0.5135 - accuracy: 0.7760 - val_loss: 0.4601 - val_accuracy: 0.8780\n",
      "Epoch 21/50\n",
      "14/14 [==============================] - 0s 9ms/step - loss: 0.4848 - accuracy: 0.8068 - val_loss: 0.4543 - val_accuracy: 0.8852\n",
      "Epoch 22/50\n",
      "14/14 [==============================] - 0s 9ms/step - loss: 0.4902 - accuracy: 0.8393 - val_loss: 0.4486 - val_accuracy: 0.8862\n",
      "Epoch 23/50\n",
      "14/14 [==============================] - 0s 9ms/step - loss: 0.4602 - accuracy: 0.8356 - val_loss: 0.4427 - val_accuracy: 0.8907\n",
      "Epoch 24/50\n",
      "14/14 [==============================] - 0s 9ms/step - loss: 0.4689 - accuracy: 0.8496 - val_loss: 0.4372 - val_accuracy: 0.8953\n",
      "Epoch 25/50\n",
      "14/14 [==============================] - 0s 9ms/step - loss: 0.4789 - accuracy: 0.8288 - val_loss: 0.4317 - val_accuracy: 0.9007\n",
      "Epoch 26/50\n",
      "14/14 [==============================] - 0s 14ms/step - loss: 0.4673 - accuracy: 0.8442 - val_loss: 0.4260 - val_accuracy: 0.9016\n",
      "Epoch 27/50\n",
      "14/14 [==============================] - 0s 10ms/step - loss: 0.4339 - accuracy: 0.8678 - val_loss: 0.4204 - val_accuracy: 0.9044\n",
      "Epoch 28/50\n",
      "14/14 [==============================] - 0s 9ms/step - loss: 0.4563 - accuracy: 0.8584 - val_loss: 0.4149 - val_accuracy: 0.9089\n",
      "Epoch 29/50\n",
      "14/14 [==============================] - 0s 9ms/step - loss: 0.4470 - accuracy: 0.8612 - val_loss: 0.4094 - val_accuracy: 0.9098\n",
      "Epoch 30/50\n",
      "14/14 [==============================] - 0s 9ms/step - loss: 0.4339 - accuracy: 0.8779 - val_loss: 0.4039 - val_accuracy: 0.9126\n",
      "Epoch 31/50\n",
      "14/14 [==============================] - 0s 14ms/step - loss: 0.4411 - accuracy: 0.8610 - val_loss: 0.3985 - val_accuracy: 0.9126\n",
      "Epoch 32/50\n",
      "14/14 [==============================] - 0s 8ms/step - loss: 0.4185 - accuracy: 0.8993 - val_loss: 0.3930 - val_accuracy: 0.9144\n",
      "Epoch 33/50\n",
      "14/14 [==============================] - 0s 9ms/step - loss: 0.3944 - accuracy: 0.9195 - val_loss: 0.3873 - val_accuracy: 0.9199\n",
      "Epoch 34/50\n",
      "14/14 [==============================] - 0s 9ms/step - loss: 0.4077 - accuracy: 0.8954 - val_loss: 0.3819 - val_accuracy: 0.9208\n",
      "Epoch 35/50\n",
      "14/14 [==============================] - 0s 9ms/step - loss: 0.4000 - accuracy: 0.9068 - val_loss: 0.3765 - val_accuracy: 0.9253\n",
      "Epoch 36/50\n",
      "14/14 [==============================] - 0s 9ms/step - loss: 0.4060 - accuracy: 0.9042 - val_loss: 0.3711 - val_accuracy: 0.9281\n",
      "Epoch 37/50\n",
      "14/14 [==============================] - 0s 9ms/step - loss: 0.3993 - accuracy: 0.8756 - val_loss: 0.3660 - val_accuracy: 0.9281\n",
      "Epoch 38/50\n",
      "14/14 [==============================] - 0s 8ms/step - loss: 0.3995 - accuracy: 0.8806 - val_loss: 0.3608 - val_accuracy: 0.9308\n",
      "Epoch 39/50\n",
      "14/14 [==============================] - 0s 8ms/step - loss: 0.3973 - accuracy: 0.8836 - val_loss: 0.3556 - val_accuracy: 0.9326\n",
      "Epoch 40/50\n",
      "14/14 [==============================] - 0s 14ms/step - loss: 0.4150 - accuracy: 0.8630 - val_loss: 0.3504 - val_accuracy: 0.9326\n",
      "Epoch 41/50\n",
      "14/14 [==============================] - 0s 8ms/step - loss: 0.3781 - accuracy: 0.9038 - val_loss: 0.3453 - val_accuracy: 0.9344\n",
      "Epoch 42/50\n",
      "14/14 [==============================] - 0s 10ms/step - loss: 0.3608 - accuracy: 0.9056 - val_loss: 0.3402 - val_accuracy: 0.9362\n",
      "Epoch 43/50\n",
      "14/14 [==============================] - 0s 15ms/step - loss: 0.3821 - accuracy: 0.8866 - val_loss: 0.3352 - val_accuracy: 0.9372\n",
      "Epoch 44/50\n",
      "14/14 [==============================] - 0s 8ms/step - loss: 0.3587 - accuracy: 0.9083 - val_loss: 0.3302 - val_accuracy: 0.9381\n",
      "Epoch 45/50\n",
      "14/14 [==============================] - 0s 14ms/step - loss: 0.3537 - accuracy: 0.9076 - val_loss: 0.3252 - val_accuracy: 0.9408\n",
      "Epoch 46/50\n",
      "14/14 [==============================] - 0s 14ms/step - loss: 0.3477 - accuracy: 0.8935 - val_loss: 0.3204 - val_accuracy: 0.9408\n",
      "Epoch 47/50\n",
      "14/14 [==============================] - 0s 9ms/step - loss: 0.3391 - accuracy: 0.9073 - val_loss: 0.3155 - val_accuracy: 0.9426\n",
      "Epoch 48/50\n",
      "14/14 [==============================] - 0s 14ms/step - loss: 0.3423 - accuracy: 0.9022 - val_loss: 0.3107 - val_accuracy: 0.9435\n",
      "Epoch 49/50\n",
      "14/14 [==============================] - 0s 9ms/step - loss: 0.3391 - accuracy: 0.9044 - val_loss: 0.3060 - val_accuracy: 0.9472\n",
      "Epoch 50/50\n",
      "14/14 [==============================] - 0s 10ms/step - loss: 0.3417 - accuracy: 0.8907 - val_loss: 0.3014 - val_accuracy: 0.9481\n"
     ]
    }
   ],
   "source": [
    "model=classifier.fit(x_train,y_train,validation_data=(x_test,y_test),batch_size=20,epochs=50)"
   ]
  },
  {
   "cell_type": "code",
   "execution_count": 14,
   "metadata": {
    "executionInfo": {
     "elapsed": 489,
     "status": "ok",
     "timestamp": 1624165404224,
     "user": {
      "displayName": "vrushank pambhar",
      "photoUrl": "https://lh3.googleusercontent.com/a-/AOh14Ghe41TAQCpGJKNYvyA0q036zdLW42OlzRME1ahQHw=s64",
      "userId": "03806319178712934532"
     },
     "user_tz": -330
    },
    "id": "wFLs881oEOo7"
   },
   "outputs": [],
   "source": [
    "y_pred=classifier.predict(x_test)"
   ]
  },
  {
   "cell_type": "code",
   "execution_count": 15,
   "metadata": {
    "executionInfo": {
     "elapsed": 7,
     "status": "ok",
     "timestamp": 1624165406439,
     "user": {
      "displayName": "vrushank pambhar",
      "photoUrl": "https://lh3.googleusercontent.com/a-/AOh14Ghe41TAQCpGJKNYvyA0q036zdLW42OlzRME1ahQHw=s64",
      "userId": "03806319178712934532"
     },
     "user_tz": -330
    },
    "id": "t6F4jIM_FwPV"
   },
   "outputs": [],
   "source": [
    "y_pred=(y_pred>0.5)"
   ]
  },
  {
   "cell_type": "code",
   "execution_count": 16,
   "metadata": {
    "colab": {
     "base_uri": "https://localhost:8080/"
    },
    "executionInfo": {
     "elapsed": 758,
     "status": "ok",
     "timestamp": 1624165409873,
     "user": {
      "displayName": "vrushank pambhar",
      "photoUrl": "https://lh3.googleusercontent.com/a-/AOh14Ghe41TAQCpGJKNYvyA0q036zdLW42OlzRME1ahQHw=s64",
      "userId": "03806319178712934532"
     },
     "user_tz": -330
    },
    "id": "4gFwWqnVHK62",
    "outputId": "8368fc09-0b1c-47dd-cc77-f226beef4fd2"
   },
   "outputs": [
    {
     "data": {
      "text/plain": [
       "array([[600,  17],\n",
       "       [ 40, 441]])"
      ]
     },
     "execution_count": 16,
     "metadata": {
      "tags": []
     },
     "output_type": "execute_result"
    }
   ],
   "source": [
    "from sklearn.metrics import confusion_matrix\n",
    "confusion_matrix(y_test,y_pred)"
   ]
  },
  {
   "cell_type": "code",
   "execution_count": 17,
   "metadata": {
    "colab": {
     "base_uri": "https://localhost:8080/"
    },
    "executionInfo": {
     "elapsed": 494,
     "status": "ok",
     "timestamp": 1624165416047,
     "user": {
      "displayName": "vrushank pambhar",
      "photoUrl": "https://lh3.googleusercontent.com/a-/AOh14Ghe41TAQCpGJKNYvyA0q036zdLW42OlzRME1ahQHw=s64",
      "userId": "03806319178712934532"
     },
     "user_tz": -330
    },
    "id": "zhlm-hljJV_8",
    "outputId": "555a206b-ad3d-49bb-9329-c2e286fc2be0"
   },
   "outputs": [
    {
     "data": {
      "text/plain": [
       "0.939297124600639"
      ]
     },
     "execution_count": 17,
     "metadata": {
      "tags": []
     },
     "output_type": "execute_result"
    }
   ],
   "source": [
    "from sklearn.metrics import f1_score\n",
    "f1_score(y_test,y_pred)"
   ]
  },
  {
   "cell_type": "markdown",
   "metadata": {
    "id": "eZBN7qbPLc5A"
   },
   "source": [
    "### for sigmoid AF our f1_score is 0.93"
   ]
  },
  {
   "cell_type": "code",
   "execution_count": 75,
   "metadata": {
    "colab": {
     "base_uri": "https://localhost:8080/"
    },
    "executionInfo": {
     "elapsed": 435,
     "status": "ok",
     "timestamp": 1624169533250,
     "user": {
      "displayName": "vrushank pambhar",
      "photoUrl": "https://lh3.googleusercontent.com/a-/AOh14Ghe41TAQCpGJKNYvyA0q036zdLW42OlzRME1ahQHw=s64",
      "userId": "03806319178712934532"
     },
     "user_tz": -330
    },
    "id": "zOkVaCEwCzkH",
    "outputId": "4cb589a1-2b86-4a3a-ee62-df1c5309c1a7"
   },
   "outputs": [
    {
     "data": {
      "text/plain": [
       "[array([[-0.727551  ,  1.0110674 ,  1.0748235 , -1.713752  ,  0.75462925,\n",
       "         -0.7776416 ],\n",
       "        [ 1.1734166 ,  0.7572696 ,  0.84296536,  0.46578994,  0.80638367,\n",
       "          0.8418931 ],\n",
       "        [-1.1521983 ,  0.71976084,  0.29917565,  0.6079191 ,  0.7425877 ,\n",
       "          0.2065474 ],\n",
       "        [ 0.22038954,  0.55757034,  0.86272144, -0.06123984,  0.62624973,\n",
       "          0.51388747]], dtype=float32),\n",
       " array([ 0.07694181, -0.6323891 , -0.52814794,  0.37497193, -0.9197095 ,\n",
       "        -0.5231501 ], dtype=float32),\n",
       " array([[ 0.15977626],\n",
       "        [-1.3581755 ],\n",
       "        [-0.30170557],\n",
       "        [ 1.1094419 ],\n",
       "        [-0.55303615],\n",
       "        [-0.4599137 ]], dtype=float32),\n",
       " array([0.371618], dtype=float32)]"
      ]
     },
     "execution_count": 75,
     "metadata": {
      "tags": []
     },
     "output_type": "execute_result"
    }
   ],
   "source": [
    "sigmoid_perams=classifier.get_weights()\n",
    "sigmoid_perams"
   ]
  },
  {
   "cell_type": "markdown",
   "metadata": {
    "id": "7DsSLBD4L7-x"
   },
   "source": [
    "### these are all the values of weights after trining with respect to sigmoid AF."
   ]
  },
  {
   "cell_type": "code",
   "execution_count": 68,
   "metadata": {
    "colab": {
     "base_uri": "https://localhost:8080/",
     "height": 295
    },
    "executionInfo": {
     "elapsed": 1371,
     "status": "ok",
     "timestamp": 1624168885655,
     "user": {
      "displayName": "vrushank pambhar",
      "photoUrl": "https://lh3.googleusercontent.com/a-/AOh14Ghe41TAQCpGJKNYvyA0q036zdLW42OlzRME1ahQHw=s64",
      "userId": "03806319178712934532"
     },
     "user_tz": -330
    },
    "id": "_p2NF4xtzZen",
    "outputId": "2e981ffb-9bf9-462d-a49c-e5c41499c713"
   },
   "outputs": [
    {
     "data": {
      "image/png": "[encoded data removed]",
      "text/plain": [
       "<Figure size 432x288 with 1 Axes>"
      ]
     },
     "metadata": {
      "needs_background": "light",
      "tags": []
     },
     "output_type": "display_data"
    }
   ],
   "source": [
    "plt.plot(model.history['loss'])\n",
    "plt.plot(model.history['val_loss'])\n",
    "plt.title('sigmoid AF loss')\n",
    "plt.xlabel('epochs')\n",
    "plt.ylabel('loss')\n",
    "plt.legend(['train','test'],loc='upper right')\n",
    "plt.show()"
   ]
  },
  {
   "cell_type": "code",
   "execution_count": 72,
   "metadata": {
    "colab": {
     "base_uri": "https://localhost:8080/",
     "height": 295
    },
    "executionInfo": {
     "elapsed": 576,
     "status": "ok",
     "timestamp": 1624169116944,
     "user": {
      "displayName": "vrushank pambhar",
      "photoUrl": "https://lh3.googleusercontent.com/a-/AOh14Ghe41TAQCpGJKNYvyA0q036zdLW42OlzRME1ahQHw=s64",
      "userId": "03806319178712934532"
     },
     "user_tz": -330
    },
    "id": "VzaS3bZdz4TX",
    "outputId": "b6c647c5-e71a-4c70-a8a1-f45a6794a9b5"
   },
   "outputs": [
    {
     "data": {
      "image/png": "[encoded data removed]",
      "text/plain": [
       "<Figure size 432x288 with 1 Axes>"
      ]
     },
     "metadata": {
      "needs_background": "light",
      "tags": []
     },
     "output_type": "display_data"
    }
   ],
   "source": [
    "plt.plot(model.history['accuracy'])\n",
    "plt.plot(model.history['val_accuracy'])\n",
    "plt.title('sigmoid AF accuracy')\n",
    "plt.xlabel('epochs')\n",
    "plt.ylabel('accuracy')\n",
    "plt.legend(['train','test'],loc='upper right')\n",
    "plt.show()"
   ]
  },
  {
   "cell_type": "markdown",
   "metadata": {
    "id": "J7USmdXlMPvJ"
   },
   "source": [
    "### Now we wil use relu AF(activation function) "
   ]
  },
  {
   "cell_type": "code",
   "execution_count": 22,
   "metadata": {
    "executionInfo": {
     "elapsed": 540,
     "status": "ok",
     "timestamp": 1624165613903,
     "user": {
      "displayName": "vrushank pambhar",
      "photoUrl": "https://lh3.googleusercontent.com/a-/AOh14Ghe41TAQCpGJKNYvyA0q036zdLW42OlzRME1ahQHw=s64",
      "userId": "03806319178712934532"
     },
     "user_tz": -330
    },
    "id": "oTlxsDtGK7nt"
   },
   "outputs": [],
   "source": [
    "classifier1=Sequential()\n",
    "classifier1.add(Dense(units=6,kernel_initializer='he_uniform',activation='relu',input_dim=4))\n",
    "classifier1.add(Dense(units=1,kernel_initializer='he_uniform',activation='sigmoid'))\n",
    "classifier1.compile(optimizer='adam',loss='binary_crossentropy',metrics=['accuracy'])\n"
   ]
  },
  {
   "cell_type": "code",
   "execution_count": 23,
   "metadata": {
    "colab": {
     "base_uri": "https://localhost:8080/"
    },
    "executionInfo": {
     "elapsed": 11,
     "status": "ok",
     "timestamp": 1624165618723,
     "user": {
      "displayName": "vrushank pambhar",
      "photoUrl": "https://lh3.googleusercontent.com/a-/AOh14Ghe41TAQCpGJKNYvyA0q036zdLW42OlzRME1ahQHw=s64",
      "userId": "03806319178712934532"
     },
     "user_tz": -330
    },
    "id": "UAlnnzQELJ0Z",
    "outputId": "ef7ac180-0f00-4c07-d922-d9c5be277961"
   },
   "outputs": [
    {
     "name": "stdout",
     "output_type": "stream",
     "text": [
      "Model: \"sequential_1\"\n",
      "_________________________________________________________________\n",
      "Layer (type)                 Output Shape              Param #   \n",
      "=================================================================\n",
      "dense_2 (Dense)              (None, 6)                 30        \n",
      "_________________________________________________________________\n",
      "dense_3 (Dense)              (None, 1)                 7         \n",
      "=================================================================\n",
      "Total params: 37\n",
      "Trainable params: 37\n",
      "Non-trainable params: 0\n",
      "_________________________________________________________________\n"
     ]
    }
   ],
   "source": [
    "classifier1.summary()"
   ]
  },
  {
   "cell_type": "code",
   "execution_count": 24,
   "metadata": {
    "colab": {
     "base_uri": "https://localhost:8080/"
    },
    "executionInfo": {
     "elapsed": 9030,
     "status": "ok",
     "timestamp": 1624165648817,
     "user": {
      "displayName": "vrushank pambhar",
      "photoUrl": "https://lh3.googleusercontent.com/a-/AOh14Ghe41TAQCpGJKNYvyA0q036zdLW42OlzRME1ahQHw=s64",
      "userId": "03806319178712934532"
     },
     "user_tz": -330
    },
    "id": "orgtN3NOLMcW",
    "outputId": "e4e21894-ba70-4367-cb51-0ab6fc08216c"
   },
   "outputs": [
    {
     "name": "stdout",
     "output_type": "stream",
     "text": [
      "Epoch 1/50\n",
      "14/14 [==============================] - 1s 28ms/step - loss: 1.1508 - accuracy: 0.4827 - val_loss: 1.0772 - val_accuracy: 0.4772\n",
      "Epoch 2/50\n",
      "14/14 [==============================] - 0s 9ms/step - loss: 0.9395 - accuracy: 0.5449 - val_loss: 0.9678 - val_accuracy: 0.5301\n",
      "Epoch 3/50\n",
      "14/14 [==============================] - 0s 14ms/step - loss: 0.9161 - accuracy: 0.5386 - val_loss: 0.8762 - val_accuracy: 0.5592\n",
      "Epoch 4/50\n",
      "14/14 [==============================] - 0s 9ms/step - loss: 0.7646 - accuracy: 0.5775 - val_loss: 0.7974 - val_accuracy: 0.5856\n",
      "Epoch 5/50\n",
      "14/14 [==============================] - 0s 15ms/step - loss: 0.7706 - accuracy: 0.5919 - val_loss: 0.7288 - val_accuracy: 0.6230\n",
      "Epoch 6/50\n",
      "14/14 [==============================] - 0s 9ms/step - loss: 0.6709 - accuracy: 0.6557 - val_loss: 0.6682 - val_accuracy: 0.6585\n",
      "Epoch 7/50\n",
      "14/14 [==============================] - 0s 14ms/step - loss: 0.6923 - accuracy: 0.6562 - val_loss: 0.6111 - val_accuracy: 0.6931\n",
      "Epoch 8/50\n",
      "14/14 [==============================] - 0s 9ms/step - loss: 0.5767 - accuracy: 0.7087 - val_loss: 0.5618 - val_accuracy: 0.7259\n",
      "Epoch 9/50\n",
      "14/14 [==============================] - 0s 9ms/step - loss: 0.5337 - accuracy: 0.7489 - val_loss: 0.5134 - val_accuracy: 0.7559\n",
      "Epoch 10/50\n",
      "14/14 [==============================] - 0s 14ms/step - loss: 0.4922 - accuracy: 0.7635 - val_loss: 0.4681 - val_accuracy: 0.7760\n",
      "Epoch 11/50\n",
      "14/14 [==============================] - 0s 10ms/step - loss: 0.4640 - accuracy: 0.7956 - val_loss: 0.4250 - val_accuracy: 0.8106\n",
      "Epoch 12/50\n",
      "14/14 [==============================] - 0s 9ms/step - loss: 0.4538 - accuracy: 0.7931 - val_loss: 0.3849 - val_accuracy: 0.8525\n",
      "Epoch 13/50\n",
      "14/14 [==============================] - 0s 10ms/step - loss: 0.3968 - accuracy: 0.8384 - val_loss: 0.3503 - val_accuracy: 0.8934\n",
      "Epoch 14/50\n",
      "14/14 [==============================] - 0s 9ms/step - loss: 0.3248 - accuracy: 0.8847 - val_loss: 0.3204 - val_accuracy: 0.9080\n",
      "Epoch 15/50\n",
      "14/14 [==============================] - 0s 14ms/step - loss: 0.2965 - accuracy: 0.9071 - val_loss: 0.2936 - val_accuracy: 0.9144\n",
      "Epoch 16/50\n",
      "14/14 [==============================] - 0s 14ms/step - loss: 0.2818 - accuracy: 0.8932 - val_loss: 0.2703 - val_accuracy: 0.9308\n",
      "Epoch 17/50\n",
      "14/14 [==============================] - 0s 14ms/step - loss: 0.2860 - accuracy: 0.8953 - val_loss: 0.2496 - val_accuracy: 0.9417\n",
      "Epoch 18/50\n",
      "14/14 [==============================] - 0s 9ms/step - loss: 0.2472 - accuracy: 0.9351 - val_loss: 0.2319 - val_accuracy: 0.9490\n",
      "Epoch 19/50\n",
      "14/14 [==============================] - 0s 14ms/step - loss: 0.2448 - accuracy: 0.9312 - val_loss: 0.2172 - val_accuracy: 0.9545\n",
      "Epoch 20/50\n",
      "14/14 [==============================] - 0s 9ms/step - loss: 0.2259 - accuracy: 0.9433 - val_loss: 0.2040 - val_accuracy: 0.9663\n",
      "Epoch 21/50\n",
      "14/14 [==============================] - 0s 9ms/step - loss: 0.2125 - accuracy: 0.9557 - val_loss: 0.1926 - val_accuracy: 0.9681\n",
      "Epoch 22/50\n",
      "14/14 [==============================] - 0s 14ms/step - loss: 0.1875 - accuracy: 0.9570 - val_loss: 0.1827 - val_accuracy: 0.9699\n",
      "Epoch 23/50\n",
      "14/14 [==============================] - 0s 9ms/step - loss: 0.1850 - accuracy: 0.9673 - val_loss: 0.1734 - val_accuracy: 0.9709\n",
      "Epoch 24/50\n",
      "14/14 [==============================] - 0s 14ms/step - loss: 0.1805 - accuracy: 0.9575 - val_loss: 0.1655 - val_accuracy: 0.9709\n",
      "Epoch 25/50\n",
      "14/14 [==============================] - 0s 14ms/step - loss: 0.1662 - accuracy: 0.9747 - val_loss: 0.1581 - val_accuracy: 0.9718\n",
      "Epoch 26/50\n",
      "14/14 [==============================] - 0s 9ms/step - loss: 0.1674 - accuracy: 0.9550 - val_loss: 0.1519 - val_accuracy: 0.9718\n",
      "Epoch 27/50\n",
      "14/14 [==============================] - 0s 9ms/step - loss: 0.1639 - accuracy: 0.9438 - val_loss: 0.1463 - val_accuracy: 0.9745\n",
      "Epoch 28/50\n",
      "14/14 [==============================] - 0s 14ms/step - loss: 0.1722 - accuracy: 0.9420 - val_loss: 0.1410 - val_accuracy: 0.9754\n",
      "Epoch 29/50\n",
      "14/14 [==============================] - 0s 9ms/step - loss: 0.1518 - accuracy: 0.9658 - val_loss: 0.1360 - val_accuracy: 0.9791\n",
      "Epoch 30/50\n",
      "14/14 [==============================] - 0s 14ms/step - loss: 0.1491 - accuracy: 0.9642 - val_loss: 0.1313 - val_accuracy: 0.9763\n",
      "Epoch 31/50\n",
      "14/14 [==============================] - 0s 9ms/step - loss: 0.1492 - accuracy: 0.9478 - val_loss: 0.1272 - val_accuracy: 0.9763\n",
      "Epoch 32/50\n",
      "14/14 [==============================] - 0s 9ms/step - loss: 0.1403 - accuracy: 0.9680 - val_loss: 0.1233 - val_accuracy: 0.9763\n",
      "Epoch 33/50\n",
      "14/14 [==============================] - 0s 9ms/step - loss: 0.1326 - accuracy: 0.9615 - val_loss: 0.1197 - val_accuracy: 0.9781\n",
      "Epoch 34/50\n",
      "14/14 [==============================] - 0s 14ms/step - loss: 0.1506 - accuracy: 0.9398 - val_loss: 0.1163 - val_accuracy: 0.9781\n",
      "Epoch 35/50\n",
      "14/14 [==============================] - 0s 9ms/step - loss: 0.1385 - accuracy: 0.9494 - val_loss: 0.1129 - val_accuracy: 0.9781\n",
      "Epoch 36/50\n",
      "14/14 [==============================] - 0s 9ms/step - loss: 0.1214 - accuracy: 0.9668 - val_loss: 0.1098 - val_accuracy: 0.9781\n",
      "Epoch 37/50\n",
      "14/14 [==============================] - 0s 9ms/step - loss: 0.1313 - accuracy: 0.9621 - val_loss: 0.1071 - val_accuracy: 0.9800\n",
      "Epoch 38/50\n",
      "14/14 [==============================] - 0s 14ms/step - loss: 0.1118 - accuracy: 0.9854 - val_loss: 0.1044 - val_accuracy: 0.9800\n",
      "Epoch 39/50\n",
      "14/14 [==============================] - 0s 14ms/step - loss: 0.1229 - accuracy: 0.9766 - val_loss: 0.1018 - val_accuracy: 0.9809\n",
      "Epoch 40/50\n",
      "14/14 [==============================] - 0s 14ms/step - loss: 0.0987 - accuracy: 0.9889 - val_loss: 0.0993 - val_accuracy: 0.9818\n",
      "Epoch 41/50\n",
      "14/14 [==============================] - 0s 9ms/step - loss: 0.1096 - accuracy: 0.9783 - val_loss: 0.0969 - val_accuracy: 0.9818\n",
      "Epoch 42/50\n",
      "14/14 [==============================] - 0s 9ms/step - loss: 0.1088 - accuracy: 0.9865 - val_loss: 0.0946 - val_accuracy: 0.9818\n",
      "Epoch 43/50\n",
      "14/14 [==============================] - 0s 9ms/step - loss: 0.1191 - accuracy: 0.9731 - val_loss: 0.0925 - val_accuracy: 0.9818\n",
      "Epoch 44/50\n",
      "14/14 [==============================] - 0s 14ms/step - loss: 0.0924 - accuracy: 0.9900 - val_loss: 0.0904 - val_accuracy: 0.9818\n",
      "Epoch 45/50\n",
      "14/14 [==============================] - 0s 14ms/step - loss: 0.0990 - accuracy: 0.9827 - val_loss: 0.0883 - val_accuracy: 0.9818\n",
      "Epoch 46/50\n",
      "14/14 [==============================] - 0s 9ms/step - loss: 0.0828 - accuracy: 0.9930 - val_loss: 0.0865 - val_accuracy: 0.9818\n",
      "Epoch 47/50\n",
      "14/14 [==============================] - 0s 9ms/step - loss: 0.1034 - accuracy: 0.9719 - val_loss: 0.0846 - val_accuracy: 0.9818\n",
      "Epoch 48/50\n",
      "14/14 [==============================] - 0s 9ms/step - loss: 0.1091 - accuracy: 0.9746 - val_loss: 0.0827 - val_accuracy: 0.9818\n",
      "Epoch 49/50\n",
      "14/14 [==============================] - 0s 14ms/step - loss: 0.0774 - accuracy: 0.9834 - val_loss: 0.0810 - val_accuracy: 0.9818\n",
      "Epoch 50/50\n",
      "14/14 [==============================] - 0s 9ms/step - loss: 0.0926 - accuracy: 0.9892 - val_loss: 0.0793 - val_accuracy: 0.9818\n"
     ]
    }
   ],
   "source": [
    "model1=classifier1.fit(x_train,y_train,validation_data=(x_test,y_test),batch_size=20,epochs=50)"
   ]
  },
  {
   "cell_type": "code",
   "execution_count": 25,
   "metadata": {
    "executionInfo": {
     "elapsed": 538,
     "status": "ok",
     "timestamp": 1624165661009,
     "user": {
      "displayName": "vrushank pambhar",
      "photoUrl": "https://lh3.googleusercontent.com/a-/AOh14Ghe41TAQCpGJKNYvyA0q036zdLW42OlzRME1ahQHw=s64",
      "userId": "03806319178712934532"
     },
     "user_tz": -330
    },
    "id": "4xuhoUluLghW"
   },
   "outputs": [],
   "source": [
    "y_pred1=classifier1.predict(x_test)"
   ]
  },
  {
   "cell_type": "code",
   "execution_count": 26,
   "metadata": {
    "executionInfo": {
     "elapsed": 9,
     "status": "ok",
     "timestamp": 1624165665654,
     "user": {
      "displayName": "vrushank pambhar",
      "photoUrl": "https://lh3.googleusercontent.com/a-/AOh14Ghe41TAQCpGJKNYvyA0q036zdLW42OlzRME1ahQHw=s64",
      "userId": "03806319178712934532"
     },
     "user_tz": -330
    },
    "id": "GB7947J-Ligp"
   },
   "outputs": [],
   "source": [
    "y_pred1=(y_pred1>0.5)"
   ]
  },
  {
   "cell_type": "code",
   "execution_count": 27,
   "metadata": {
    "colab": {
     "base_uri": "https://localhost:8080/"
    },
    "executionInfo": {
     "elapsed": 644,
     "status": "ok",
     "timestamp": 1624165669596,
     "user": {
      "displayName": "vrushank pambhar",
      "photoUrl": "https://lh3.googleusercontent.com/a-/AOh14Ghe41TAQCpGJKNYvyA0q036zdLW42OlzRME1ahQHw=s64",
      "userId": "03806319178712934532"
     },
     "user_tz": -330
    },
    "id": "WJZCfFOjLwcT",
    "outputId": "084aa7f0-7ba6-41ce-f02f-c658cb9e43d3"
   },
   "outputs": [
    {
     "data": {
      "text/plain": [
       "0.9793814432989691"
      ]
     },
     "execution_count": 27,
     "metadata": {
      "tags": []
     },
     "output_type": "execute_result"
    }
   ],
   "source": [
    "from sklearn.metrics import f1_score\n",
    "f1_score(y_test,y_pred1)"
   ]
  },
  {
   "cell_type": "markdown",
   "metadata": {
    "id": "L39iDSStMnMz"
   },
   "source": [
    "### for relu AF our f1_score is 0.97"
   ]
  },
  {
   "cell_type": "code",
   "execution_count": 28,
   "metadata": {
    "colab": {
     "base_uri": "https://localhost:8080/"
    },
    "executionInfo": {
     "elapsed": 8,
     "status": "ok",
     "timestamp": 1624165673355,
     "user": {
      "displayName": "vrushank pambhar",
      "photoUrl": "https://lh3.googleusercontent.com/a-/AOh14Ghe41TAQCpGJKNYvyA0q036zdLW42OlzRME1ahQHw=s64",
      "userId": "03806319178712934532"
     },
     "user_tz": -330
    },
    "id": "QNw7eFYZL7_P",
    "outputId": "f91dd391-86a6-4b98-c989-b8bccf3fff64"
   },
   "outputs": [
    {
     "data": {
      "text/plain": [
       "array([[603,  14],\n",
       "       [  6, 475]])"
      ]
     },
     "execution_count": 28,
     "metadata": {
      "tags": []
     },
     "output_type": "execute_result"
    }
   ],
   "source": [
    "from sklearn.metrics import confusion_matrix\n",
    "confusion_matrix(y_test,y_pred1)"
   ]
  },
  {
   "cell_type": "code",
   "execution_count": 76,
   "metadata": {
    "colab": {
     "base_uri": "https://localhost:8080/"
    },
    "executionInfo": {
     "elapsed": 646,
     "status": "ok",
     "timestamp": 1624169622852,
     "user": {
      "displayName": "vrushank pambhar",
      "photoUrl": "https://lh3.googleusercontent.com/a-/AOh14Ghe41TAQCpGJKNYvyA0q036zdLW42OlzRME1ahQHw=s64",
      "userId": "03806319178712934532"
     },
     "user_tz": -330
    },
    "id": "6kgXhE3pDU0O",
    "outputId": "662bb832-cac5-4f71-a448-2b8f388b444e"
   },
   "outputs": [
    {
     "data": {
      "text/plain": [
       "[array([[ 1.3768551 ,  0.00308583, -0.8659246 , -0.43750525, -1.4536597 ,\n",
       "          0.73783296],\n",
       "        [ 0.53759205,  0.6392634 , -0.32576174,  0.600046  , -0.32353482,\n",
       "          0.21813026],\n",
       "        [ 0.4843226 ,  1.0928947 ,  0.17274515, -0.34537467, -0.68184996,\n",
       "          0.7057975 ],\n",
       "        [-0.2729887 , -0.8192063 ,  0.5271092 , -0.30849475, -1.314877  ,\n",
       "          0.1160277 ]], dtype=float32),\n",
       " array([ 0.17036338, -0.00854066,  0.32795438,  0.44088927,  0.51211274,\n",
       "        -0.25051948], dtype=float32),\n",
       " array([[-0.6589834 ],\n",
       "        [-0.57766885],\n",
       "        [ 0.9129556 ],\n",
       "        [ 0.44904655],\n",
       "        [ 0.25865123],\n",
       "        [ 0.2975463 ]], dtype=float32),\n",
       " array([0.28592148], dtype=float32)]"
      ]
     },
     "execution_count": 76,
     "metadata": {
      "tags": []
     },
     "output_type": "execute_result"
    }
   ],
   "source": [
    "relu_perams=classifier1.get_weights()\n",
    "relu_perams"
   ]
  },
  {
   "cell_type": "markdown",
   "metadata": {
    "id": "peKdEiB6NXX6"
   },
   "source": [
    "### these are all the values of weights after trining with respect to relu AF."
   ]
  },
  {
   "cell_type": "code",
   "execution_count": 69,
   "metadata": {
    "colab": {
     "base_uri": "https://localhost:8080/",
     "height": 295
    },
    "executionInfo": {
     "elapsed": 1344,
     "status": "ok",
     "timestamp": 1624168918923,
     "user": {
      "displayName": "vrushank pambhar",
      "photoUrl": "https://lh3.googleusercontent.com/a-/AOh14Ghe41TAQCpGJKNYvyA0q036zdLW42OlzRME1ahQHw=s64",
      "userId": "03806319178712934532"
     },
     "user_tz": -330
    },
    "id": "EApc0ZOK0Xsu",
    "outputId": "fd62aeed-3d56-4ca1-a616-be446ea823f7"
   },
   "outputs": [
    {
     "data": {
      "image/png": "[encoded data removed]",
      "text/plain": [
       "<Figure size 432x288 with 1 Axes>"
      ]
     },
     "metadata": {
      "needs_background": "light",
      "tags": []
     },
     "output_type": "display_data"
    }
   ],
   "source": [
    "plt.plot(model1.history['loss'])\n",
    "plt.plot(model1.history['val_loss'])\n",
    "plt.title('relu AF loss')\n",
    "plt.xlabel('epochs')\n",
    "plt.ylabel('loss')\n",
    "plt.legend(['train','test'],loc='upper right')\n",
    "plt.show()"
   ]
  },
  {
   "cell_type": "code",
   "execution_count": 71,
   "metadata": {
    "colab": {
     "base_uri": "https://localhost:8080/",
     "height": 295
    },
    "executionInfo": {
     "elapsed": 519,
     "status": "ok",
     "timestamp": 1624169070052,
     "user": {
      "displayName": "vrushank pambhar",
      "photoUrl": "https://lh3.googleusercontent.com/a-/AOh14Ghe41TAQCpGJKNYvyA0q036zdLW42OlzRME1ahQHw=s64",
      "userId": "03806319178712934532"
     },
     "user_tz": -330
    },
    "id": "1yGxtqhg0iYU",
    "outputId": "f72dfde0-9087-4012-fa6e-91e077e78d68"
   },
   "outputs": [
    {
     "data": {
      "image/png": "[encoded data removed]",
      "text/plain": [
       "<Figure size 432x288 with 1 Axes>"
      ]
     },
     "metadata": {
      "needs_background": "light",
      "tags": []
     },
     "output_type": "display_data"
    }
   ],
   "source": [
    "plt.plot(model1.history['accuracy'])\n",
    "plt.plot(model1.history['val_accuracy'])\n",
    "plt.title('relu AF accuracy')\n",
    "plt.xlabel('epochs')\n",
    "plt.ylabel('accuracy')\n",
    "plt.legend(['train','test'],loc='upper right')\n",
    "plt.show()"
   ]
  },
  {
   "cell_type": "markdown",
   "metadata": {
    "id": "WVCZo1rAMy_I"
   },
   "source": [
    "### Now we wil use elu AF(activation function) "
   ]
  },
  {
   "cell_type": "code",
   "execution_count": 78,
   "metadata": {
    "executionInfo": {
     "elapsed": 422,
     "status": "ok",
     "timestamp": 1624169891329,
     "user": {
      "displayName": "vrushank pambhar",
      "photoUrl": "https://lh3.googleusercontent.com/a-/AOh14Ghe41TAQCpGJKNYvyA0q036zdLW42OlzRME1ahQHw=s64",
      "userId": "03806319178712934532"
     },
     "user_tz": -330
    },
    "id": "T3w9AgTEEVcp"
   },
   "outputs": [],
   "source": [
    "classifier4=Sequential()\n",
    "classifier4.add(Dense(units=6,kernel_initializer='he_uniform',activation='elu',input_dim=4))\n",
    "classifier4.add(Dense(units=1,kernel_initializer='he_uniform',activation='sigmoid'))\n",
    "classifier4.compile(optimizer='adam',loss='binary_crossentropy',metrics=['accuracy'])\n"
   ]
  },
  {
   "cell_type": "code",
   "execution_count": 79,
   "metadata": {
    "colab": {
     "base_uri": "https://localhost:8080/"
    },
    "executionInfo": {
     "elapsed": 704,
     "status": "ok",
     "timestamp": 1624169907300,
     "user": {
      "displayName": "vrushank pambhar",
      "photoUrl": "https://lh3.googleusercontent.com/a-/AOh14Ghe41TAQCpGJKNYvyA0q036zdLW42OlzRME1ahQHw=s64",
      "userId": "03806319178712934532"
     },
     "user_tz": -330
    },
    "id": "V6bLjclpEeWt",
    "outputId": "4e7e290c-7033-41c5-dc5b-6cfffc412c1c"
   },
   "outputs": [
    {
     "name": "stdout",
     "output_type": "stream",
     "text": [
      "Model: \"sequential_3\"\n",
      "_________________________________________________________________\n",
      "Layer (type)                 Output Shape              Param #   \n",
      "=================================================================\n",
      "dense_6 (Dense)              (None, 6)                 30        \n",
      "_________________________________________________________________\n",
      "dense_7 (Dense)              (None, 1)                 7         \n",
      "=================================================================\n",
      "Total params: 37\n",
      "Trainable params: 37\n",
      "Non-trainable params: 0\n",
      "_________________________________________________________________\n"
     ]
    }
   ],
   "source": [
    "classifier4.summary()"
   ]
  },
  {
   "cell_type": "code",
   "execution_count": 80,
   "metadata": {
    "colab": {
     "base_uri": "https://localhost:8080/"
    },
    "executionInfo": {
     "elapsed": 11615,
     "status": "ok",
     "timestamp": 1624169941848,
     "user": {
      "displayName": "vrushank pambhar",
      "photoUrl": "https://lh3.googleusercontent.com/a-/AOh14Ghe41TAQCpGJKNYvyA0q036zdLW42OlzRME1ahQHw=s64",
      "userId": "03806319178712934532"
     },
     "user_tz": -330
    },
    "id": "gFMSMfzrEhGK",
    "outputId": "f29fdac0-056a-4147-9d1d-c2537c114a3b"
   },
   "outputs": [
    {
     "name": "stdout",
     "output_type": "stream",
     "text": [
      "Epoch 1/50\n",
      "14/14 [==============================] - 1s 22ms/step - loss: 3.6487 - accuracy: 0.6599 - val_loss: 3.3625 - val_accuracy: 0.6621\n",
      "Epoch 2/50\n",
      "14/14 [==============================] - 0s 9ms/step - loss: 2.8954 - accuracy: 0.6609 - val_loss: 3.2146 - val_accuracy: 0.6712\n",
      "Epoch 3/50\n",
      "14/14 [==============================] - 0s 9ms/step - loss: 2.3685 - accuracy: 0.6729 - val_loss: 3.0719 - val_accuracy: 0.6749\n",
      "Epoch 4/50\n",
      "14/14 [==============================] - 0s 14ms/step - loss: 2.9469 - accuracy: 0.6247 - val_loss: 2.9257 - val_accuracy: 0.6767\n",
      "Epoch 5/50\n",
      "14/14 [==============================] - 0s 10ms/step - loss: 2.4910 - accuracy: 0.6899 - val_loss: 2.7876 - val_accuracy: 0.6803\n",
      "Epoch 6/50\n",
      "14/14 [==============================] - 0s 9ms/step - loss: 2.6005 - accuracy: 0.6732 - val_loss: 2.6562 - val_accuracy: 0.6849\n",
      "Epoch 7/50\n",
      "14/14 [==============================] - 0s 9ms/step - loss: 2.4182 - accuracy: 0.6968 - val_loss: 2.5300 - val_accuracy: 0.6922\n",
      "Epoch 8/50\n",
      "14/14 [==============================] - 0s 14ms/step - loss: 1.9740 - accuracy: 0.6963 - val_loss: 2.4114 - val_accuracy: 0.6958\n",
      "Epoch 9/50\n",
      "14/14 [==============================] - 0s 9ms/step - loss: 2.3529 - accuracy: 0.7009 - val_loss: 2.2842 - val_accuracy: 0.6985\n",
      "Epoch 10/50\n",
      "14/14 [==============================] - 0s 14ms/step - loss: 2.2409 - accuracy: 0.6780 - val_loss: 2.1695 - val_accuracy: 0.7022\n",
      "Epoch 11/50\n",
      "14/14 [==============================] - 0s 9ms/step - loss: 2.1766 - accuracy: 0.7106 - val_loss: 2.0605 - val_accuracy: 0.7086\n",
      "Epoch 12/50\n",
      "14/14 [==============================] - 0s 10ms/step - loss: 1.7054 - accuracy: 0.7277 - val_loss: 1.9604 - val_accuracy: 0.7195\n",
      "Epoch 13/50\n",
      "14/14 [==============================] - 0s 14ms/step - loss: 1.8060 - accuracy: 0.6937 - val_loss: 1.8601 - val_accuracy: 0.7231\n",
      "Epoch 14/50\n",
      "14/14 [==============================] - 0s 14ms/step - loss: 1.8185 - accuracy: 0.7339 - val_loss: 1.7638 - val_accuracy: 0.7295\n",
      "Epoch 15/50\n",
      "14/14 [==============================] - 0s 14ms/step - loss: 1.9205 - accuracy: 0.6854 - val_loss: 1.6699 - val_accuracy: 0.7395\n",
      "Epoch 16/50\n",
      "14/14 [==============================] - 0s 14ms/step - loss: 1.5671 - accuracy: 0.6965 - val_loss: 1.5833 - val_accuracy: 0.7477\n",
      "Epoch 17/50\n",
      "14/14 [==============================] - 0s 14ms/step - loss: 1.4370 - accuracy: 0.7397 - val_loss: 1.4987 - val_accuracy: 0.7641\n",
      "Epoch 18/50\n",
      "14/14 [==============================] - 0s 14ms/step - loss: 1.3849 - accuracy: 0.7439 - val_loss: 1.4128 - val_accuracy: 0.7714\n",
      "Epoch 19/50\n",
      "14/14 [==============================] - 0s 9ms/step - loss: 1.4304 - accuracy: 0.7141 - val_loss: 1.3301 - val_accuracy: 0.7796\n",
      "Epoch 20/50\n",
      "14/14 [==============================] - 0s 14ms/step - loss: 1.1996 - accuracy: 0.7469 - val_loss: 1.2570 - val_accuracy: 0.7805\n",
      "Epoch 21/50\n",
      "14/14 [==============================] - 0s 9ms/step - loss: 1.1586 - accuracy: 0.7511 - val_loss: 1.1843 - val_accuracy: 0.7851\n",
      "Epoch 22/50\n",
      "14/14 [==============================] - 0s 9ms/step - loss: 1.0180 - accuracy: 0.7456 - val_loss: 1.1150 - val_accuracy: 0.7896\n",
      "Epoch 23/50\n",
      "14/14 [==============================] - 0s 14ms/step - loss: 1.0885 - accuracy: 0.7533 - val_loss: 1.0423 - val_accuracy: 0.7942\n",
      "Epoch 24/50\n",
      "14/14 [==============================] - 0s 10ms/step - loss: 1.0663 - accuracy: 0.7716 - val_loss: 0.9764 - val_accuracy: 0.7978\n",
      "Epoch 25/50\n",
      "14/14 [==============================] - 0s 9ms/step - loss: 0.8699 - accuracy: 0.7768 - val_loss: 0.9186 - val_accuracy: 0.7996\n",
      "Epoch 26/50\n",
      "14/14 [==============================] - 0s 9ms/step - loss: 0.9431 - accuracy: 0.7507 - val_loss: 0.8572 - val_accuracy: 0.8024\n",
      "Epoch 27/50\n",
      "14/14 [==============================] - 0s 9ms/step - loss: 0.8116 - accuracy: 0.7929 - val_loss: 0.8023 - val_accuracy: 0.8051\n",
      "Epoch 28/50\n",
      "14/14 [==============================] - 0s 15ms/step - loss: 0.8013 - accuracy: 0.7801 - val_loss: 0.7455 - val_accuracy: 0.8087\n",
      "Epoch 29/50\n",
      "14/14 [==============================] - 0s 14ms/step - loss: 0.8386 - accuracy: 0.7639 - val_loss: 0.6924 - val_accuracy: 0.8097\n",
      "Epoch 30/50\n",
      "14/14 [==============================] - 0s 10ms/step - loss: 0.6345 - accuracy: 0.8136 - val_loss: 0.6461 - val_accuracy: 0.8133\n",
      "Epoch 31/50\n",
      "14/14 [==============================] - 0s 15ms/step - loss: 0.6792 - accuracy: 0.7851 - val_loss: 0.5991 - val_accuracy: 0.8179\n",
      "Epoch 32/50\n",
      "14/14 [==============================] - 0s 10ms/step - loss: 0.5499 - accuracy: 0.8174 - val_loss: 0.5548 - val_accuracy: 0.8206\n",
      "Epoch 33/50\n",
      "14/14 [==============================] - 0s 10ms/step - loss: 0.5003 - accuracy: 0.8019 - val_loss: 0.5156 - val_accuracy: 0.8224\n",
      "Epoch 34/50\n",
      "14/14 [==============================] - 0s 10ms/step - loss: 0.4854 - accuracy: 0.8211 - val_loss: 0.4754 - val_accuracy: 0.8279\n",
      "Epoch 35/50\n",
      "14/14 [==============================] - 0s 14ms/step - loss: 0.3919 - accuracy: 0.8372 - val_loss: 0.4401 - val_accuracy: 0.8306\n",
      "Epoch 36/50\n",
      "14/14 [==============================] - 0s 9ms/step - loss: 0.4063 - accuracy: 0.8190 - val_loss: 0.4075 - val_accuracy: 0.8370\n",
      "Epoch 37/50\n",
      "14/14 [==============================] - 0s 10ms/step - loss: 0.3597 - accuracy: 0.8325 - val_loss: 0.3778 - val_accuracy: 0.8415\n",
      "Epoch 38/50\n",
      "14/14 [==============================] - 0s 9ms/step - loss: 0.3521 - accuracy: 0.8448 - val_loss: 0.3501 - val_accuracy: 0.8452\n",
      "Epoch 39/50\n",
      "14/14 [==============================] - 0s 9ms/step - loss: 0.3347 - accuracy: 0.8321 - val_loss: 0.3251 - val_accuracy: 0.8543\n",
      "Epoch 40/50\n",
      "14/14 [==============================] - 0s 9ms/step - loss: 0.3213 - accuracy: 0.8384 - val_loss: 0.3018 - val_accuracy: 0.8625\n",
      "Epoch 41/50\n",
      "14/14 [==============================] - 0s 9ms/step - loss: 0.2850 - accuracy: 0.8799 - val_loss: 0.2809 - val_accuracy: 0.8743\n",
      "Epoch 42/50\n",
      "14/14 [==============================] - 0s 14ms/step - loss: 0.2511 - accuracy: 0.8791 - val_loss: 0.2617 - val_accuracy: 0.8834\n",
      "Epoch 43/50\n",
      "14/14 [==============================] - 0s 14ms/step - loss: 0.2524 - accuracy: 0.8702 - val_loss: 0.2452 - val_accuracy: 0.8934\n",
      "Epoch 44/50\n",
      "14/14 [==============================] - 0s 14ms/step - loss: 0.2711 - accuracy: 0.8721 - val_loss: 0.2305 - val_accuracy: 0.8998\n",
      "Epoch 45/50\n",
      "14/14 [==============================] - 0s 14ms/step - loss: 0.2422 - accuracy: 0.9062 - val_loss: 0.2167 - val_accuracy: 0.9053\n",
      "Epoch 46/50\n",
      "14/14 [==============================] - 0s 10ms/step - loss: 0.2325 - accuracy: 0.9030 - val_loss: 0.2036 - val_accuracy: 0.9089\n",
      "Epoch 47/50\n",
      "14/14 [==============================] - 0s 10ms/step - loss: 0.2468 - accuracy: 0.8981 - val_loss: 0.1930 - val_accuracy: 0.9180\n",
      "Epoch 48/50\n",
      "14/14 [==============================] - 0s 14ms/step - loss: 0.1817 - accuracy: 0.9320 - val_loss: 0.1831 - val_accuracy: 0.9235\n",
      "Epoch 49/50\n",
      "14/14 [==============================] - 0s 9ms/step - loss: 0.2072 - accuracy: 0.9199 - val_loss: 0.1738 - val_accuracy: 0.9281\n",
      "Epoch 50/50\n",
      "14/14 [==============================] - 0s 14ms/step - loss: 0.1629 - accuracy: 0.9400 - val_loss: 0.1655 - val_accuracy: 0.9308\n"
     ]
    }
   ],
   "source": [
    "model4=classifier4.fit(x_train,y_train,validation_data=(x_test,y_test),batch_size=20,epochs=50)"
   ]
  },
  {
   "cell_type": "code",
   "execution_count": 83,
   "metadata": {
    "executionInfo": {
     "elapsed": 10,
     "status": "ok",
     "timestamp": 1624170040501,
     "user": {
      "displayName": "vrushank pambhar",
      "photoUrl": "https://lh3.googleusercontent.com/a-/AOh14Ghe41TAQCpGJKNYvyA0q036zdLW42OlzRME1ahQHw=s64",
      "userId": "03806319178712934532"
     },
     "user_tz": -330
    },
    "id": "7V5AJ2W9EqHm"
   },
   "outputs": [],
   "source": [
    "y_pred4=classifier4.predict(x_test)\n",
    "y_pred4=(y_pred4>0.5)"
   ]
  },
  {
   "cell_type": "code",
   "execution_count": 84,
   "metadata": {
    "colab": {
     "base_uri": "https://localhost:8080/"
    },
    "executionInfo": {
     "elapsed": 512,
     "status": "ok",
     "timestamp": 1624170043210,
     "user": {
      "displayName": "vrushank pambhar",
      "photoUrl": "https://lh3.googleusercontent.com/a-/AOh14Ghe41TAQCpGJKNYvyA0q036zdLW42OlzRME1ahQHw=s64",
      "userId": "03806319178712934532"
     },
     "user_tz": -330
    },
    "id": "ISCHauXBE0GK",
    "outputId": "9ed4d6ab-6bb1-4d66-e5bf-96a9e8f239f3"
   },
   "outputs": [
    {
     "data": {
      "text/plain": [
       "0.9173913043478261"
      ]
     },
     "execution_count": 84,
     "metadata": {
      "tags": []
     },
     "output_type": "execute_result"
    }
   ],
   "source": [
    "from sklearn.metrics import f1_score\n",
    "f1_score(y_test,y_pred4)"
   ]
  },
  {
   "cell_type": "markdown",
   "metadata": {
    "id": "wLyt0FMtQIy7"
   },
   "source": [
    "### for elu AF our f1_score is 0.91"
   ]
  },
  {
   "cell_type": "code",
   "execution_count": 85,
   "metadata": {
    "colab": {
     "base_uri": "https://localhost:8080/"
    },
    "executionInfo": {
     "elapsed": 468,
     "status": "ok",
     "timestamp": 1624170095324,
     "user": {
      "displayName": "vrushank pambhar",
      "photoUrl": "https://lh3.googleusercontent.com/a-/AOh14Ghe41TAQCpGJKNYvyA0q036zdLW42OlzRME1ahQHw=s64",
      "userId": "03806319178712934532"
     },
     "user_tz": -330
    },
    "id": "ldyyBdSiFJ9B",
    "outputId": "604a4c86-8d44-4bca-bf8b-e175e740354b"
   },
   "outputs": [
    {
     "data": {
      "text/plain": [
       "[array([[ 1.2224389 ,  0.71039224,  1.2657377 ,  0.95135164,  0.4424655 ,\n",
       "         -0.6687784 ],\n",
       "        [-0.5103669 ,  1.0196567 ,  0.35500175,  0.12084213, -0.8693794 ,\n",
       "         -0.23886406],\n",
       "        [ 0.0868571 ,  0.76495177,  0.4328991 ,  0.15187958, -1.0487573 ,\n",
       "          0.09509474],\n",
       "        [ 0.5947032 ,  0.77011406, -0.6790226 ,  0.51383156,  0.94432163,\n",
       "         -0.38302845]], dtype=float32),\n",
       " array([-0.48272103, -0.681094  , -0.5689037 , -0.49541366, -0.604844  ,\n",
       "        -0.43739516], dtype=float32),\n",
       " array([[-0.5348898 ],\n",
       "        [-0.58948344],\n",
       "        [-0.7179061 ],\n",
       "        [-0.9553463 ],\n",
       "        [-0.5275058 ],\n",
       "        [-0.4434579 ]], dtype=float32),\n",
       " array([0.55412793], dtype=float32)]"
      ]
     },
     "execution_count": 85,
     "metadata": {
      "tags": []
     },
     "output_type": "execute_result"
    }
   ],
   "source": [
    "elu_params=classifier4.get_weights()\n",
    "elu_params"
   ]
  },
  {
   "cell_type": "markdown",
   "metadata": {
    "id": "8MhnEkxDNetO"
   },
   "source": [
    "### these are all the values of weights after trining with respect to elu AF."
   ]
  },
  {
   "cell_type": "code",
   "execution_count": 86,
   "metadata": {
    "colab": {
     "base_uri": "https://localhost:8080/",
     "height": 295
    },
    "executionInfo": {
     "elapsed": 656,
     "status": "ok",
     "timestamp": 1624170345232,
     "user": {
      "displayName": "vrushank pambhar",
      "photoUrl": "https://lh3.googleusercontent.com/a-/AOh14Ghe41TAQCpGJKNYvyA0q036zdLW42OlzRME1ahQHw=s64",
      "userId": "03806319178712934532"
     },
     "user_tz": -330
    },
    "id": "F6nVtjelGHs5",
    "outputId": "65e0c213-2d7c-4739-d67f-243ede453cdc"
   },
   "outputs": [
    {
     "data": {
      "image/png": "[encoded data removed]",
      "text/plain": [
       "<Figure size 432x288 with 1 Axes>"
      ]
     },
     "metadata": {
      "needs_background": "light",
      "tags": []
     },
     "output_type": "display_data"
    }
   ],
   "source": [
    "plt.plot(model4.history['loss'])\n",
    "plt.plot(model4.history['val_loss'])\n",
    "plt.title('elu AF loss')\n",
    "plt.xlabel('epochs')\n",
    "plt.ylabel('loss')\n",
    "plt.legend(['train','test'],loc='upper right')\n",
    "plt.show()"
   ]
  },
  {
   "cell_type": "code",
   "execution_count": 87,
   "metadata": {
    "colab": {
     "base_uri": "https://localhost:8080/",
     "height": 295
    },
    "executionInfo": {
     "elapsed": 534,
     "status": "ok",
     "timestamp": 1624170512156,
     "user": {
      "displayName": "vrushank pambhar",
      "photoUrl": "https://lh3.googleusercontent.com/a-/AOh14Ghe41TAQCpGJKNYvyA0q036zdLW42OlzRME1ahQHw=s64",
      "userId": "03806319178712934532"
     },
     "user_tz": -330
    },
    "id": "oLmYnbEEGw2-",
    "outputId": "5300104d-4a0d-459c-dc23-bb32447d799a"
   },
   "outputs": [
    {
     "data": {
      "image/png": "[encoded data removed]",
      "text/plain": [
       "<Figure size 432x288 with 1 Axes>"
      ]
     },
     "metadata": {
      "needs_background": "light",
      "tags": []
     },
     "output_type": "display_data"
    }
   ],
   "source": [
    "plt.plot(model4.history['accuracy'])\n",
    "plt.plot(model4.history['val_accuracy'])\n",
    "plt.title('elu AF accuracy')\n",
    "plt.xlabel('epochs')\n",
    "plt.ylabel('accuracy')\n",
    "plt.legend(['train','test'],loc='upper right')\n",
    "plt.show()"
   ]
  },
  {
   "cell_type": "markdown",
   "metadata": {
    "id": "e-bSVa7SQwE6"
   },
   "source": [
    "### Now we wil use softmax AF(activation function) "
   ]
  },
  {
   "cell_type": "code",
   "execution_count": 31,
   "metadata": {
    "executionInfo": {
     "elapsed": 529,
     "status": "ok",
     "timestamp": 1624165784539,
     "user": {
      "displayName": "vrushank pambhar",
      "photoUrl": "https://lh3.googleusercontent.com/a-/AOh14Ghe41TAQCpGJKNYvyA0q036zdLW42OlzRME1ahQHw=s64",
      "userId": "03806319178712934532"
     },
     "user_tz": -330
    },
    "id": "rY42bbptVATC"
   },
   "outputs": [],
   "source": [
    "classifier2=Sequential()\n",
    "classifier2.add(Dense(units=6,kernel_initializer='he_uniform',activation='softmax',input_dim=4))\n",
    "classifier2.add(Dense(units=1,kernel_initializer='he_uniform',activation='sigmoid'))\n",
    "classifier2.compile(optimizer='adam',loss='binary_crossentropy',metrics=['accuracy'])\n"
   ]
  },
  {
   "cell_type": "code",
   "execution_count": 32,
   "metadata": {
    "colab": {
     "base_uri": "https://localhost:8080/"
    },
    "executionInfo": {
     "elapsed": 11,
     "status": "ok",
     "timestamp": 1624165787357,
     "user": {
      "displayName": "vrushank pambhar",
      "photoUrl": "https://lh3.googleusercontent.com/a-/AOh14Ghe41TAQCpGJKNYvyA0q036zdLW42OlzRME1ahQHw=s64",
      "userId": "03806319178712934532"
     },
     "user_tz": -330
    },
    "id": "RQYCLLMkVIWp",
    "outputId": "5b7c6cb6-f81a-4038-e5cc-c502778489a1"
   },
   "outputs": [
    {
     "name": "stdout",
     "output_type": "stream",
     "text": [
      "Model: \"sequential_2\"\n",
      "_________________________________________________________________\n",
      "Layer (type)                 Output Shape              Param #   \n",
      "=================================================================\n",
      "dense_4 (Dense)              (None, 6)                 30        \n",
      "_________________________________________________________________\n",
      "dense_5 (Dense)              (None, 1)                 7         \n",
      "=================================================================\n",
      "Total params: 37\n",
      "Trainable params: 37\n",
      "Non-trainable params: 0\n",
      "_________________________________________________________________\n"
     ]
    }
   ],
   "source": [
    "classifier2.summary()"
   ]
  },
  {
   "cell_type": "code",
   "execution_count": 33,
   "metadata": {
    "colab": {
     "base_uri": "https://localhost:8080/"
    },
    "executionInfo": {
     "elapsed": 9176,
     "status": "ok",
     "timestamp": 1624165811040,
     "user": {
      "displayName": "vrushank pambhar",
      "photoUrl": "https://lh3.googleusercontent.com/a-/AOh14Ghe41TAQCpGJKNYvyA0q036zdLW42OlzRME1ahQHw=s64",
      "userId": "03806319178712934532"
     },
     "user_tz": -330
    },
    "id": "qM7-5ygiVIrr",
    "outputId": "beb2b863-f6b2-444a-c666-f5e28026b029"
   },
   "outputs": [
    {
     "name": "stdout",
     "output_type": "stream",
     "text": [
      "Epoch 1/50\n",
      "14/14 [==============================] - 1s 23ms/step - loss: 0.7816 - accuracy: 0.3145 - val_loss: 0.7622 - val_accuracy: 0.3734\n",
      "Epoch 2/50\n",
      "14/14 [==============================] - 0s 14ms/step - loss: 0.7463 - accuracy: 0.3692 - val_loss: 0.7549 - val_accuracy: 0.3944\n",
      "Epoch 3/50\n",
      "14/14 [==============================] - 0s 9ms/step - loss: 0.7698 - accuracy: 0.3662 - val_loss: 0.7481 - val_accuracy: 0.4053\n",
      "Epoch 4/50\n",
      "14/14 [==============================] - 0s 9ms/step - loss: 0.7636 - accuracy: 0.3685 - val_loss: 0.7418 - val_accuracy: 0.4080\n",
      "Epoch 5/50\n",
      "14/14 [==============================] - 0s 9ms/step - loss: 0.7374 - accuracy: 0.4435 - val_loss: 0.7360 - val_accuracy: 0.4408\n",
      "Epoch 6/50\n",
      "14/14 [==============================] - 0s 14ms/step - loss: 0.7415 - accuracy: 0.4649 - val_loss: 0.7306 - val_accuracy: 0.5610\n",
      "Epoch 7/50\n",
      "14/14 [==============================] - 0s 9ms/step - loss: 0.7532 - accuracy: 0.5259 - val_loss: 0.7254 - val_accuracy: 0.5865\n",
      "Epoch 8/50\n",
      "14/14 [==============================] - 0s 9ms/step - loss: 0.7486 - accuracy: 0.5429 - val_loss: 0.7204 - val_accuracy: 0.6129\n",
      "Epoch 9/50\n",
      "14/14 [==============================] - 0s 14ms/step - loss: 0.7548 - accuracy: 0.5814 - val_loss: 0.7157 - val_accuracy: 0.6284\n",
      "Epoch 10/50\n",
      "14/14 [==============================] - 0s 9ms/step - loss: 0.7321 - accuracy: 0.5954 - val_loss: 0.7113 - val_accuracy: 0.6339\n",
      "Epoch 11/50\n",
      "14/14 [==============================] - 0s 14ms/step - loss: 0.7300 - accuracy: 0.5960 - val_loss: 0.7066 - val_accuracy: 0.6485\n",
      "Epoch 12/50\n",
      "14/14 [==============================] - 0s 9ms/step - loss: 0.6939 - accuracy: 0.6585 - val_loss: 0.7025 - val_accuracy: 0.6548\n",
      "Epoch 13/50\n",
      "14/14 [==============================] - 0s 14ms/step - loss: 0.7150 - accuracy: 0.6368 - val_loss: 0.6981 - val_accuracy: 0.6658\n",
      "Epoch 14/50\n",
      "14/14 [==============================] - 0s 9ms/step - loss: 0.7191 - accuracy: 0.6434 - val_loss: 0.6938 - val_accuracy: 0.6694\n",
      "Epoch 15/50\n",
      "14/14 [==============================] - 0s 14ms/step - loss: 0.7121 - accuracy: 0.6354 - val_loss: 0.6896 - val_accuracy: 0.6721\n",
      "Epoch 16/50\n",
      "14/14 [==============================] - 0s 9ms/step - loss: 0.6990 - accuracy: 0.6644 - val_loss: 0.6852 - val_accuracy: 0.6767\n",
      "Epoch 17/50\n",
      "14/14 [==============================] - 0s 9ms/step - loss: 0.6982 - accuracy: 0.6453 - val_loss: 0.6808 - val_accuracy: 0.6812\n",
      "Epoch 18/50\n",
      "14/14 [==============================] - 0s 9ms/step - loss: 0.6842 - accuracy: 0.6774 - val_loss: 0.6763 - val_accuracy: 0.6876\n",
      "Epoch 19/50\n",
      "14/14 [==============================] - 0s 9ms/step - loss: 0.7087 - accuracy: 0.6174 - val_loss: 0.6719 - val_accuracy: 0.6940\n",
      "Epoch 20/50\n",
      "14/14 [==============================] - 0s 14ms/step - loss: 0.6917 - accuracy: 0.6373 - val_loss: 0.6672 - val_accuracy: 0.7004\n",
      "Epoch 21/50\n",
      "14/14 [==============================] - 0s 14ms/step - loss: 0.6834 - accuracy: 0.6732 - val_loss: 0.6621 - val_accuracy: 0.7077\n",
      "Epoch 22/50\n",
      "14/14 [==============================] - 0s 14ms/step - loss: 0.6608 - accuracy: 0.7247 - val_loss: 0.6569 - val_accuracy: 0.7177\n",
      "Epoch 23/50\n",
      "14/14 [==============================] - 0s 10ms/step - loss: 0.6613 - accuracy: 0.7042 - val_loss: 0.6515 - val_accuracy: 0.7259\n",
      "Epoch 24/50\n",
      "14/14 [==============================] - 0s 9ms/step - loss: 0.6673 - accuracy: 0.6937 - val_loss: 0.6451 - val_accuracy: 0.7341\n",
      "Epoch 25/50\n",
      "14/14 [==============================] - 0s 10ms/step - loss: 0.6569 - accuracy: 0.6998 - val_loss: 0.6376 - val_accuracy: 0.7404\n",
      "Epoch 26/50\n",
      "14/14 [==============================] - 0s 9ms/step - loss: 0.6666 - accuracy: 0.6770 - val_loss: 0.6270 - val_accuracy: 0.7532\n",
      "Epoch 27/50\n",
      "14/14 [==============================] - 0s 9ms/step - loss: 0.6337 - accuracy: 0.7373 - val_loss: 0.6097 - val_accuracy: 0.7769\n",
      "Epoch 28/50\n",
      "14/14 [==============================] - 0s 9ms/step - loss: 0.6238 - accuracy: 0.7512 - val_loss: 0.5834 - val_accuracy: 0.8324\n",
      "Epoch 29/50\n",
      "14/14 [==============================] - 0s 14ms/step - loss: 0.5737 - accuracy: 0.8441 - val_loss: 0.5569 - val_accuracy: 0.8925\n",
      "Epoch 30/50\n",
      "14/14 [==============================] - 0s 9ms/step - loss: 0.5524 - accuracy: 0.8973 - val_loss: 0.5404 - val_accuracy: 0.9062\n",
      "Epoch 31/50\n",
      "14/14 [==============================] - 0s 14ms/step - loss: 0.5319 - accuracy: 0.9238 - val_loss: 0.5320 - val_accuracy: 0.9053\n",
      "Epoch 32/50\n",
      "14/14 [==============================] - 0s 9ms/step - loss: 0.5333 - accuracy: 0.8934 - val_loss: 0.5259 - val_accuracy: 0.9089\n",
      "Epoch 33/50\n",
      "14/14 [==============================] - 0s 9ms/step - loss: 0.5278 - accuracy: 0.9117 - val_loss: 0.5202 - val_accuracy: 0.9098\n",
      "Epoch 34/50\n",
      "14/14 [==============================] - 0s 9ms/step - loss: 0.5271 - accuracy: 0.8913 - val_loss: 0.5149 - val_accuracy: 0.9117\n",
      "Epoch 35/50\n",
      "14/14 [==============================] - 0s 9ms/step - loss: 0.5208 - accuracy: 0.8943 - val_loss: 0.5096 - val_accuracy: 0.9144\n",
      "Epoch 36/50\n",
      "14/14 [==============================] - 0s 9ms/step - loss: 0.5155 - accuracy: 0.9102 - val_loss: 0.5043 - val_accuracy: 0.9180\n",
      "Epoch 37/50\n",
      "14/14 [==============================] - 0s 9ms/step - loss: 0.5021 - accuracy: 0.9111 - val_loss: 0.4990 - val_accuracy: 0.9180\n",
      "Epoch 38/50\n",
      "14/14 [==============================] - 0s 14ms/step - loss: 0.5038 - accuracy: 0.9143 - val_loss: 0.4936 - val_accuracy: 0.9226\n",
      "Epoch 39/50\n",
      "14/14 [==============================] - 0s 14ms/step - loss: 0.4845 - accuracy: 0.9334 - val_loss: 0.4884 - val_accuracy: 0.9235\n",
      "Epoch 40/50\n",
      "14/14 [==============================] - 0s 15ms/step - loss: 0.4780 - accuracy: 0.9396 - val_loss: 0.4830 - val_accuracy: 0.9262\n",
      "Epoch 41/50\n",
      "14/14 [==============================] - 0s 14ms/step - loss: 0.4829 - accuracy: 0.9289 - val_loss: 0.4777 - val_accuracy: 0.9299\n",
      "Epoch 42/50\n",
      "14/14 [==============================] - 0s 14ms/step - loss: 0.4740 - accuracy: 0.9400 - val_loss: 0.4722 - val_accuracy: 0.9344\n",
      "Epoch 43/50\n",
      "14/14 [==============================] - 0s 14ms/step - loss: 0.4866 - accuracy: 0.9211 - val_loss: 0.4667 - val_accuracy: 0.9399\n",
      "Epoch 44/50\n",
      "14/14 [==============================] - 0s 11ms/step - loss: 0.4710 - accuracy: 0.9310 - val_loss: 0.4611 - val_accuracy: 0.9426\n",
      "Epoch 45/50\n",
      "14/14 [==============================] - 0s 10ms/step - loss: 0.4628 - accuracy: 0.9426 - val_loss: 0.4553 - val_accuracy: 0.9472\n",
      "Epoch 46/50\n",
      "14/14 [==============================] - 0s 10ms/step - loss: 0.4683 - accuracy: 0.9308 - val_loss: 0.4493 - val_accuracy: 0.9508\n",
      "Epoch 47/50\n",
      "14/14 [==============================] - 0s 9ms/step - loss: 0.4513 - accuracy: 0.9623 - val_loss: 0.4430 - val_accuracy: 0.9526\n",
      "Epoch 48/50\n",
      "14/14 [==============================] - 0s 14ms/step - loss: 0.4488 - accuracy: 0.9551 - val_loss: 0.4361 - val_accuracy: 0.9563\n",
      "Epoch 49/50\n",
      "14/14 [==============================] - 0s 9ms/step - loss: 0.4349 - accuracy: 0.9690 - val_loss: 0.4292 - val_accuracy: 0.9645\n",
      "Epoch 50/50\n",
      "14/14 [==============================] - 0s 9ms/step - loss: 0.4259 - accuracy: 0.9693 - val_loss: 0.4221 - val_accuracy: 0.9800\n"
     ]
    }
   ],
   "source": [
    "model2=classifier2.fit(x_train,y_train,validation_data=(x_test,y_test),batch_size=20,epochs=50)"
   ]
  },
  {
   "cell_type": "code",
   "execution_count": 34,
   "metadata": {
    "executionInfo": {
     "elapsed": 638,
     "status": "ok",
     "timestamp": 1624165827218,
     "user": {
      "displayName": "vrushank pambhar",
      "photoUrl": "https://lh3.googleusercontent.com/a-/AOh14Ghe41TAQCpGJKNYvyA0q036zdLW42OlzRME1ahQHw=s64",
      "userId": "03806319178712934532"
     },
     "user_tz": -330
    },
    "id": "VeQ_u209VI3T"
   },
   "outputs": [],
   "source": [
    "y_pred2=classifier2.predict(x_test)"
   ]
  },
  {
   "cell_type": "code",
   "execution_count": 35,
   "metadata": {
    "executionInfo": {
     "elapsed": 1500,
     "status": "ok",
     "timestamp": 1624165830676,
     "user": {
      "displayName": "vrushank pambhar",
      "photoUrl": "https://lh3.googleusercontent.com/a-/AOh14Ghe41TAQCpGJKNYvyA0q036zdLW42OlzRME1ahQHw=s64",
      "userId": "03806319178712934532"
     },
     "user_tz": -330
    },
    "id": "MGbStI7BVI5P"
   },
   "outputs": [],
   "source": [
    "y_pred2=(y_pred2>0.5)"
   ]
  },
  {
   "cell_type": "code",
   "execution_count": 94,
   "metadata": {
    "colab": {
     "base_uri": "https://localhost:8080/"
    },
    "executionInfo": {
     "elapsed": 643,
     "status": "ok",
     "timestamp": 1624170880585,
     "user": {
      "displayName": "vrushank pambhar",
      "photoUrl": "https://lh3.googleusercontent.com/a-/AOh14Ghe41TAQCpGJKNYvyA0q036zdLW42OlzRME1ahQHw=s64",
      "userId": "03806319178712934532"
     },
     "user_tz": -330
    },
    "id": "J8x7IyTHVI8d",
    "outputId": "b0bf93e3-067a-4583-f3c6-899e5d71b906"
   },
   "outputs": [
    {
     "data": {
      "text/plain": [
       "0.9769874476987448"
      ]
     },
     "execution_count": 94,
     "metadata": {
      "tags": []
     },
     "output_type": "execute_result"
    }
   ],
   "source": [
    "from sklearn.metrics import f1_score\n",
    "f1_score(y_test,y_pred2)"
   ]
  },
  {
   "cell_type": "markdown",
   "metadata": {
    "id": "uV-qqVfsQWdG"
   },
   "source": [
    "### for softmax AF our f1_score is 0.97"
   ]
  },
  {
   "cell_type": "code",
   "execution_count": 77,
   "metadata": {
    "colab": {
     "base_uri": "https://localhost:8080/"
    },
    "executionInfo": {
     "elapsed": 419,
     "status": "ok",
     "timestamp": 1624169696037,
     "user": {
      "displayName": "vrushank pambhar",
      "photoUrl": "https://lh3.googleusercontent.com/a-/AOh14Ghe41TAQCpGJKNYvyA0q036zdLW42OlzRME1ahQHw=s64",
      "userId": "03806319178712934532"
     },
     "user_tz": -330
    },
    "id": "A0GYtY1ZDfiq",
    "outputId": "ae948f53-3143-42c5-a815-5177362c3f3b"
   },
   "outputs": [
    {
     "data": {
      "text/plain": [
       "[array([[-0.57925314,  0.9806644 , -0.25715953,  0.8864646 , -0.74852353,\n",
       "          1.0233634 ],\n",
       "        [-1.1680707 ,  0.22988212, -0.6035136 , -0.77223015, -0.09614992,\n",
       "         -0.6420772 ],\n",
       "        [ 0.5217591 ,  0.2294191 ,  0.05060607, -0.76537377, -0.10170969,\n",
       "          0.99775875],\n",
       "        [ 1.5210506 ,  0.32449645,  0.65631354,  0.47558528,  0.81187147,\n",
       "          0.87380457]], dtype=float32),\n",
       " array([ 0.6376797 , -0.3133791 , -0.39771545, -0.06817323,  0.4102873 ,\n",
       "        -0.16417679], dtype=float32),\n",
       " array([[ 1.0930407 ],\n",
       "        [-0.553834  ],\n",
       "        [-0.04473143],\n",
       "        [ 0.48984605],\n",
       "        [ 0.8823267 ],\n",
       "        [-0.8665128 ]], dtype=float32),\n",
       " array([-0.03479763], dtype=float32)]"
      ]
     },
     "execution_count": 77,
     "metadata": {
      "tags": []
     },
     "output_type": "execute_result"
    }
   ],
   "source": [
    "softmax_params=classifier2.get_weights()\n",
    "softmax_params"
   ]
  },
  {
   "cell_type": "markdown",
   "metadata": {
    "id": "_3HN_YCRNmSW"
   },
   "source": [
    "### these are all the values of weights after trining with respect to softmax AF."
   ]
  },
  {
   "cell_type": "code",
   "execution_count": 70,
   "metadata": {
    "colab": {
     "base_uri": "https://localhost:8080/",
     "height": 295
    },
    "executionInfo": {
     "elapsed": 536,
     "status": "ok",
     "timestamp": 1624168951931,
     "user": {
      "displayName": "vrushank pambhar",
      "photoUrl": "https://lh3.googleusercontent.com/a-/AOh14Ghe41TAQCpGJKNYvyA0q036zdLW42OlzRME1ahQHw=s64",
      "userId": "03806319178712934532"
     },
     "user_tz": -330
    },
    "id": "x3lZiS5bVI-2",
    "outputId": "48c11c91-f3fa-43d6-a5f4-2517393fd493"
   },
   "outputs": [
    {
     "data": {
      "image/png": "[encoded data removed]",
      "text/plain": [
       "<Figure size 432x288 with 1 Axes>"
      ]
     },
     "metadata": {
      "needs_background": "light",
      "tags": []
     },
     "output_type": "display_data"
    }
   ],
   "source": [
    "plt.plot(model2.history['loss'])\n",
    "plt.plot(model2.history['val_loss'])\n",
    "plt.title('softmax AF loss')\n",
    "plt.xlabel('epochs')\n",
    "plt.ylabel('loss')\n",
    "plt.legend(['train','test'],loc='upper right')\n",
    "plt.show()"
   ]
  },
  {
   "cell_type": "code",
   "execution_count": 73,
   "metadata": {
    "colab": {
     "base_uri": "https://localhost:8080/",
     "height": 295
    },
    "executionInfo": {
     "elapsed": 774,
     "status": "ok",
     "timestamp": 1624169168592,
     "user": {
      "displayName": "vrushank pambhar",
      "photoUrl": "https://lh3.googleusercontent.com/a-/AOh14Ghe41TAQCpGJKNYvyA0q036zdLW42OlzRME1ahQHw=s64",
      "userId": "03806319178712934532"
     },
     "user_tz": -330
    },
    "id": "LQdISlIFVJDI",
    "outputId": "2256dbe9-12f3-429b-e23d-c7fcf6fa0b47"
   },
   "outputs": [
    {
     "data": {
      "image/png": "[encoded data removed]",
      "text/plain": [
       "<Figure size 432x288 with 1 Axes>"
      ]
     },
     "metadata": {
      "needs_background": "light",
      "tags": []
     },
     "output_type": "display_data"
    }
   ],
   "source": [
    "plt.plot(model2.history['accuracy'])\n",
    "plt.plot(model2.history['val_accuracy'])\n",
    "plt.title('softmax AF accuracy')\n",
    "plt.xlabel('epochs')\n",
    "plt.ylabel('accuracy')\n",
    "plt.legend(['train','test'],loc='upper right')\n",
    "plt.show()"
   ]
  },
  {
   "cell_type": "markdown",
   "metadata": {
    "id": "vsTgryx0Q7JJ"
   },
   "source": [
    "### Now we wil use swish AF(activation function) "
   ]
  },
  {
   "cell_type": "code",
   "execution_count": 88,
   "metadata": {
    "executionInfo": {
     "elapsed": 562,
     "status": "ok",
     "timestamp": 1624170709137,
     "user": {
      "displayName": "vrushank pambhar",
      "photoUrl": "https://lh3.googleusercontent.com/a-/AOh14Ghe41TAQCpGJKNYvyA0q036zdLW42OlzRME1ahQHw=s64",
      "userId": "03806319178712934532"
     },
     "user_tz": -330
    },
    "id": "b7-vffWnHBjI"
   },
   "outputs": [],
   "source": [
    "classifier3=Sequential()\n",
    "classifier3.add(Dense(units=6,kernel_initializer='he_uniform',activation='swish',input_dim=4))\n",
    "classifier3.add(Dense(units=1,kernel_initializer='he_uniform',activation='sigmoid'))\n",
    "classifier3.compile(optimizer='adam',loss='binary_crossentropy',metrics=['accuracy'])\n"
   ]
  },
  {
   "cell_type": "code",
   "execution_count": 90,
   "metadata": {
    "colab": {
     "base_uri": "https://localhost:8080/"
    },
    "executionInfo": {
     "elapsed": 489,
     "status": "ok",
     "timestamp": 1624170745621,
     "user": {
      "displayName": "vrushank pambhar",
      "photoUrl": "https://lh3.googleusercontent.com/a-/AOh14Ghe41TAQCpGJKNYvyA0q036zdLW42OlzRME1ahQHw=s64",
      "userId": "03806319178712934532"
     },
     "user_tz": -330
    },
    "id": "5Tinvag9HkuS",
    "outputId": "de9b439f-9026-4255-bc15-7a92c5d49512"
   },
   "outputs": [
    {
     "name": "stdout",
     "output_type": "stream",
     "text": [
      "Model: \"sequential_4\"\n",
      "_________________________________________________________________\n",
      "Layer (type)                 Output Shape              Param #   \n",
      "=================================================================\n",
      "dense_8 (Dense)              (None, 6)                 30        \n",
      "_________________________________________________________________\n",
      "dense_9 (Dense)              (None, 1)                 7         \n",
      "=================================================================\n",
      "Total params: 37\n",
      "Trainable params: 37\n",
      "Non-trainable params: 0\n",
      "_________________________________________________________________\n"
     ]
    }
   ],
   "source": [
    "classifier3.summary()"
   ]
  },
  {
   "cell_type": "code",
   "execution_count": 91,
   "metadata": {
    "colab": {
     "base_uri": "https://localhost:8080/"
    },
    "executionInfo": {
     "elapsed": 8821,
     "status": "ok",
     "timestamp": 1624170782706,
     "user": {
      "displayName": "vrushank pambhar",
      "photoUrl": "https://lh3.googleusercontent.com/a-/AOh14Ghe41TAQCpGJKNYvyA0q036zdLW42OlzRME1ahQHw=s64",
      "userId": "03806319178712934532"
     },
     "user_tz": -330
    },
    "id": "KaGSmNzzHxfY",
    "outputId": "f1f597ea-a888-4760-c478-c39f83384685"
   },
   "outputs": [
    {
     "name": "stdout",
     "output_type": "stream",
     "text": [
      "Epoch 1/50\n",
      "14/14 [==============================] - 1s 23ms/step - loss: 1.7071 - accuracy: 0.4440 - val_loss: 1.6754 - val_accuracy: 0.4508\n",
      "Epoch 2/50\n",
      "14/14 [==============================] - 0s 10ms/step - loss: 1.4824 - accuracy: 0.5265 - val_loss: 1.5380 - val_accuracy: 0.4699\n",
      "Epoch 3/50\n",
      "14/14 [==============================] - 0s 14ms/step - loss: 1.4890 - accuracy: 0.4910 - val_loss: 1.4036 - val_accuracy: 0.4927\n",
      "Epoch 4/50\n",
      "14/14 [==============================] - 0s 14ms/step - loss: 1.2094 - accuracy: 0.5232 - val_loss: 1.2889 - val_accuracy: 0.5282\n",
      "Epoch 5/50\n",
      "14/14 [==============================] - 0s 9ms/step - loss: 1.0530 - accuracy: 0.5616 - val_loss: 1.1826 - val_accuracy: 0.5492\n",
      "Epoch 6/50\n",
      "14/14 [==============================] - 0s 14ms/step - loss: 1.0323 - accuracy: 0.5641 - val_loss: 1.0819 - val_accuracy: 0.5774\n",
      "Epoch 7/50\n",
      "14/14 [==============================] - 0s 14ms/step - loss: 0.9600 - accuracy: 0.5453 - val_loss: 0.9878 - val_accuracy: 0.6020\n",
      "Epoch 8/50\n",
      "14/14 [==============================] - 0s 14ms/step - loss: 0.9010 - accuracy: 0.6179 - val_loss: 0.9046 - val_accuracy: 0.6184\n",
      "Epoch 9/50\n",
      "14/14 [==============================] - 0s 9ms/step - loss: 0.9662 - accuracy: 0.6372 - val_loss: 0.8257 - val_accuracy: 0.6384\n",
      "Epoch 10/50\n",
      "14/14 [==============================] - 0s 9ms/step - loss: 0.7733 - accuracy: 0.6463 - val_loss: 0.7573 - val_accuracy: 0.6630\n",
      "Epoch 11/50\n",
      "14/14 [==============================] - 0s 14ms/step - loss: 0.7689 - accuracy: 0.6211 - val_loss: 0.6951 - val_accuracy: 0.6931\n",
      "Epoch 12/50\n",
      "14/14 [==============================] - 0s 9ms/step - loss: 0.7638 - accuracy: 0.6714 - val_loss: 0.6371 - val_accuracy: 0.7204\n",
      "Epoch 13/50\n",
      "14/14 [==============================] - 0s 10ms/step - loss: 0.5960 - accuracy: 0.7178 - val_loss: 0.5887 - val_accuracy: 0.7377\n",
      "Epoch 14/50\n",
      "14/14 [==============================] - 0s 14ms/step - loss: 0.5460 - accuracy: 0.7773 - val_loss: 0.5443 - val_accuracy: 0.7459\n",
      "Epoch 15/50\n",
      "14/14 [==============================] - 0s 9ms/step - loss: 0.4979 - accuracy: 0.7580 - val_loss: 0.5022 - val_accuracy: 0.7705\n",
      "Epoch 16/50\n",
      "14/14 [==============================] - 0s 14ms/step - loss: 0.4220 - accuracy: 0.7869 - val_loss: 0.4664 - val_accuracy: 0.7869\n",
      "Epoch 17/50\n",
      "14/14 [==============================] - 0s 9ms/step - loss: 0.4682 - accuracy: 0.7888 - val_loss: 0.4301 - val_accuracy: 0.8060\n",
      "Epoch 18/50\n",
      "14/14 [==============================] - 0s 9ms/step - loss: 0.4312 - accuracy: 0.7989 - val_loss: 0.4001 - val_accuracy: 0.8270\n",
      "Epoch 19/50\n",
      "14/14 [==============================] - 0s 9ms/step - loss: 0.4379 - accuracy: 0.7899 - val_loss: 0.3725 - val_accuracy: 0.8424\n",
      "Epoch 20/50\n",
      "14/14 [==============================] - 0s 9ms/step - loss: 0.3484 - accuracy: 0.8293 - val_loss: 0.3505 - val_accuracy: 0.8534\n",
      "Epoch 21/50\n",
      "14/14 [==============================] - 0s 9ms/step - loss: 0.3940 - accuracy: 0.8102 - val_loss: 0.3279 - val_accuracy: 0.8597\n",
      "Epoch 22/50\n",
      "14/14 [==============================] - 0s 10ms/step - loss: 0.3148 - accuracy: 0.8423 - val_loss: 0.3100 - val_accuracy: 0.8643\n",
      "Epoch 23/50\n",
      "14/14 [==============================] - 0s 10ms/step - loss: 0.3578 - accuracy: 0.8000 - val_loss: 0.2931 - val_accuracy: 0.8698\n",
      "Epoch 24/50\n",
      "14/14 [==============================] - 0s 14ms/step - loss: 0.3059 - accuracy: 0.8442 - val_loss: 0.2796 - val_accuracy: 0.8734\n",
      "Epoch 25/50\n",
      "14/14 [==============================] - 0s 10ms/step - loss: 0.2863 - accuracy: 0.8757 - val_loss: 0.2658 - val_accuracy: 0.8752\n",
      "Epoch 26/50\n",
      "14/14 [==============================] - 0s 14ms/step - loss: 0.2904 - accuracy: 0.8482 - val_loss: 0.2532 - val_accuracy: 0.8780\n",
      "Epoch 27/50\n",
      "14/14 [==============================] - 0s 14ms/step - loss: 0.2860 - accuracy: 0.8565 - val_loss: 0.2436 - val_accuracy: 0.8834\n",
      "Epoch 28/50\n",
      "14/14 [==============================] - 0s 9ms/step - loss: 0.2852 - accuracy: 0.8470 - val_loss: 0.2341 - val_accuracy: 0.8898\n",
      "Epoch 29/50\n",
      "14/14 [==============================] - 0s 9ms/step - loss: 0.2495 - accuracy: 0.8822 - val_loss: 0.2261 - val_accuracy: 0.8925\n",
      "Epoch 30/50\n",
      "14/14 [==============================] - 0s 9ms/step - loss: 0.2394 - accuracy: 0.8829 - val_loss: 0.2192 - val_accuracy: 0.8989\n",
      "Epoch 31/50\n",
      "14/14 [==============================] - 0s 10ms/step - loss: 0.2295 - accuracy: 0.9018 - val_loss: 0.2121 - val_accuracy: 0.9026\n",
      "Epoch 32/50\n",
      "14/14 [==============================] - 0s 9ms/step - loss: 0.2351 - accuracy: 0.8984 - val_loss: 0.2062 - val_accuracy: 0.9080\n",
      "Epoch 33/50\n",
      "14/14 [==============================] - 0s 9ms/step - loss: 0.2299 - accuracy: 0.8796 - val_loss: 0.2006 - val_accuracy: 0.9107\n",
      "Epoch 34/50\n",
      "14/14 [==============================] - 0s 10ms/step - loss: 0.2154 - accuracy: 0.9127 - val_loss: 0.1951 - val_accuracy: 0.9171\n",
      "Epoch 35/50\n",
      "14/14 [==============================] - 0s 9ms/step - loss: 0.2217 - accuracy: 0.9078 - val_loss: 0.1903 - val_accuracy: 0.9189\n",
      "Epoch 36/50\n",
      "14/14 [==============================] - 0s 9ms/step - loss: 0.2423 - accuracy: 0.8817 - val_loss: 0.1860 - val_accuracy: 0.9244\n",
      "Epoch 37/50\n",
      "14/14 [==============================] - 0s 14ms/step - loss: 0.1968 - accuracy: 0.9246 - val_loss: 0.1820 - val_accuracy: 0.9262\n",
      "Epoch 38/50\n",
      "14/14 [==============================] - 0s 14ms/step - loss: 0.1924 - accuracy: 0.9107 - val_loss: 0.1776 - val_accuracy: 0.9290\n",
      "Epoch 39/50\n",
      "14/14 [==============================] - 0s 9ms/step - loss: 0.2037 - accuracy: 0.8862 - val_loss: 0.1736 - val_accuracy: 0.9317\n",
      "Epoch 40/50\n",
      "14/14 [==============================] - 0s 9ms/step - loss: 0.2022 - accuracy: 0.9213 - val_loss: 0.1699 - val_accuracy: 0.9335\n",
      "Epoch 41/50\n",
      "14/14 [==============================] - 0s 9ms/step - loss: 0.2293 - accuracy: 0.8965 - val_loss: 0.1665 - val_accuracy: 0.9353\n",
      "Epoch 42/50\n",
      "14/14 [==============================] - 0s 9ms/step - loss: 0.1959 - accuracy: 0.9303 - val_loss: 0.1630 - val_accuracy: 0.9390\n",
      "Epoch 43/50\n",
      "14/14 [==============================] - 0s 10ms/step - loss: 0.2001 - accuracy: 0.8945 - val_loss: 0.1600 - val_accuracy: 0.9399\n",
      "Epoch 44/50\n",
      "14/14 [==============================] - 0s 14ms/step - loss: 0.1713 - accuracy: 0.9188 - val_loss: 0.1569 - val_accuracy: 0.9426\n",
      "Epoch 45/50\n",
      "14/14 [==============================] - 0s 10ms/step - loss: 0.1689 - accuracy: 0.9408 - val_loss: 0.1540 - val_accuracy: 0.9463\n",
      "Epoch 46/50\n",
      "14/14 [==============================] - 0s 14ms/step - loss: 0.1948 - accuracy: 0.9103 - val_loss: 0.1511 - val_accuracy: 0.9508\n",
      "Epoch 47/50\n",
      "14/14 [==============================] - 0s 9ms/step - loss: 0.1938 - accuracy: 0.9306 - val_loss: 0.1483 - val_accuracy: 0.9536\n",
      "Epoch 48/50\n",
      "14/14 [==============================] - 0s 9ms/step - loss: 0.1801 - accuracy: 0.9272 - val_loss: 0.1456 - val_accuracy: 0.9545\n",
      "Epoch 49/50\n",
      "14/14 [==============================] - 0s 14ms/step - loss: 0.1803 - accuracy: 0.9193 - val_loss: 0.1431 - val_accuracy: 0.9572\n",
      "Epoch 50/50\n",
      "14/14 [==============================] - 0s 9ms/step - loss: 0.1680 - accuracy: 0.9290 - val_loss: 0.1406 - val_accuracy: 0.9581\n"
     ]
    }
   ],
   "source": [
    "model3=classifier3.fit(x_train,y_train,validation_data=(x_test,y_test),batch_size=20,epochs=50)"
   ]
  },
  {
   "cell_type": "code",
   "execution_count": 93,
   "metadata": {
    "executionInfo": {
     "elapsed": 640,
     "status": "ok",
     "timestamp": 1624170852101,
     "user": {
      "displayName": "vrushank pambhar",
      "photoUrl": "https://lh3.googleusercontent.com/a-/AOh14Ghe41TAQCpGJKNYvyA0q036zdLW42OlzRME1ahQHw=s64",
      "userId": "03806319178712934532"
     },
     "user_tz": -330
    },
    "id": "Jl-0He5xH8j4"
   },
   "outputs": [],
   "source": [
    "y_pred3=classifier3.predict(x_test)\n",
    "y_pred3=(y_pred3>0.5)"
   ]
  },
  {
   "cell_type": "code",
   "execution_count": 95,
   "metadata": {
    "colab": {
     "base_uri": "https://localhost:8080/"
    },
    "executionInfo": {
     "elapsed": 11,
     "status": "ok",
     "timestamp": 1624170892805,
     "user": {
      "displayName": "vrushank pambhar",
      "photoUrl": "https://lh3.googleusercontent.com/a-/AOh14Ghe41TAQCpGJKNYvyA0q036zdLW42OlzRME1ahQHw=s64",
      "userId": "03806319178712934532"
     },
     "user_tz": -330
    },
    "id": "I864Q2_5IHFU",
    "outputId": "6a5901a1-4163-4da8-d32c-147eea02639d"
   },
   "outputs": [
    {
     "data": {
      "text/plain": [
       "0.9511677282377919"
      ]
     },
     "execution_count": 95,
     "metadata": {
      "tags": []
     },
     "output_type": "execute_result"
    }
   ],
   "source": [
    "from sklearn.metrics import f1_score\n",
    "f1_score(y_test,y_pred3)"
   ]
  },
  {
   "cell_type": "markdown",
   "metadata": {
    "id": "qV5XxrNsQeza"
   },
   "source": [
    "### for swish AF our f1_score is 0.95"
   ]
  },
  {
   "cell_type": "code",
   "execution_count": 96,
   "metadata": {
    "colab": {
     "base_uri": "https://localhost:8080/"
    },
    "executionInfo": {
     "elapsed": 643,
     "status": "ok",
     "timestamp": 1624170929842,
     "user": {
      "displayName": "vrushank pambhar",
      "photoUrl": "https://lh3.googleusercontent.com/a-/AOh14Ghe41TAQCpGJKNYvyA0q036zdLW42OlzRME1ahQHw=s64",
      "userId": "03806319178712934532"
     },
     "user_tz": -330
    },
    "id": "ZwtXvQ-xIVZF",
    "outputId": "063cffcd-b38c-49bc-931b-6acb599a7dd9"
   },
   "outputs": [
    {
     "data": {
      "text/plain": [
       "[array([[ 0.9685192 ,  0.78826845, -1.4242569 ,  1.2338135 ,  1.4769297 ,\n",
       "         -0.85762054],\n",
       "        [-0.66248995,  0.31239134,  0.02601285,  1.0860014 , -0.0592674 ,\n",
       "         -0.6391935 ],\n",
       "        [ 0.7188899 ,  0.4410252 ,  0.63561517,  1.3219805 , -0.11183289,\n",
       "          0.18353309],\n",
       "        [-1.1967456 ,  1.0978327 ,  0.986028  ,  0.07442931,  0.9085045 ,\n",
       "         -1.3619286 ]], dtype=float32),\n",
       " array([-0.07753102, -0.1967963 , -0.01776027,  0.24320383, -0.03119492,\n",
       "         0.09408221], dtype=float32),\n",
       " array([[-0.1383626 ],\n",
       "        [ 0.29512545],\n",
       "        [ 0.33945733],\n",
       "        [-0.4071168 ],\n",
       "        [-0.21108599],\n",
       "        [ 0.34270564]], dtype=float32),\n",
       " array([0.14362298], dtype=float32)]"
      ]
     },
     "execution_count": 96,
     "metadata": {
      "tags": []
     },
     "output_type": "execute_result"
    }
   ],
   "source": [
    "swish_params=classifier3.get_weights()\n",
    "swish_params"
   ]
  },
  {
   "cell_type": "markdown",
   "metadata": {
    "id": "gWZWMGn_PqeM"
   },
   "source": [
    "### these are all the values of weights after trining with respect to swish AF."
   ]
  },
  {
   "cell_type": "code",
   "execution_count": 97,
   "metadata": {
    "colab": {
     "base_uri": "https://localhost:8080/",
     "height": 295
    },
    "executionInfo": {
     "elapsed": 587,
     "status": "ok",
     "timestamp": 1624171037017,
     "user": {
      "displayName": "vrushank pambhar",
      "photoUrl": "https://lh3.googleusercontent.com/a-/AOh14Ghe41TAQCpGJKNYvyA0q036zdLW42OlzRME1ahQHw=s64",
      "userId": "03806319178712934532"
     },
     "user_tz": -330
    },
    "id": "1YP6V0DqIv-9",
    "outputId": "4a057c7c-bf74-4ee1-f4c6-01b0e7a1ac40"
   },
   "outputs": [
    {
     "data": {
      "image/png": "[encoded data removed]",
      "text/plain": [
       "<Figure size 432x288 with 1 Axes>"
      ]
     },
     "metadata": {
      "needs_background": "light",
      "tags": []
     },
     "output_type": "display_data"
    }
   ],
   "source": [
    "plt.plot(model3.history['loss'])\n",
    "plt.plot(model3.history['val_loss'])\n",
    "plt.title('swish AF loss')\n",
    "plt.xlabel('epochs')\n",
    "plt.ylabel('loss')\n",
    "plt.legend(['train','test'],loc='upper right')\n",
    "plt.show()"
   ]
  },
  {
   "cell_type": "code",
   "execution_count": 98,
   "metadata": {
    "colab": {
     "base_uri": "https://localhost:8080/",
     "height": 295
    },
    "executionInfo": {
     "elapsed": 661,
     "status": "ok",
     "timestamp": 1624171071557,
     "user": {
      "displayName": "vrushank pambhar",
      "photoUrl": "https://lh3.googleusercontent.com/a-/AOh14Ghe41TAQCpGJKNYvyA0q036zdLW42OlzRME1ahQHw=s64",
      "userId": "03806319178712934532"
     },
     "user_tz": -330
    },
    "id": "3E9dwpzyI4hI",
    "outputId": "5391ae1e-5295-4bf3-aa62-1d506506217d"
   },
   "outputs": [
    {
     "data": {
      "image/png": "[encoded data removed]",
      "text/plain": [
       "<Figure size 432x288 with 1 Axes>"
      ]
     },
     "metadata": {
      "needs_background": "light",
      "tags": []
     },
     "output_type": "display_data"
    }
   ],
   "source": [
    "plt.plot(model3.history['accuracy'])\n",
    "plt.plot(model3.history['val_accuracy'])\n",
    "plt.title('swish AF accuracy')\n",
    "plt.xlabel('epochs')\n",
    "plt.ylabel('accuracy')\n",
    "plt.legend(['train','test'],loc='upper right')\n",
    "plt.show()"
   ]
  }
 ],
 "metadata": {
  "accelerator": "GPU",
  "colab": {
   "authorship_tag": "ABX9TyObMn9Bk3crmwl4V95uU3+e",
   "collapsed_sections": [],
   "mount_file_id": "1gzNYunR9bHyIw2f0wxdh7phhwR3jaF_l",
   "name": "Untitled0.ipynb",
   "provenance": []
  },
  "kernelspec": {
   "display_name": "Python 3",
   "language": "python",
   "name": "python3"
  },
  "language_info": {
   "codemirror_mode": {
    "name": "ipython",
    "version": 3
   },
   "file_extension": ".py",
   "mimetype": "text/x-python",
   "name": "python",
   "nbconvert_exporter": "python",
   "pygments_lexer": "ipython3",
   "version": "3.8.8"
  }
 },
 "nbformat": 4,
 "nbformat_minor": 1
}
